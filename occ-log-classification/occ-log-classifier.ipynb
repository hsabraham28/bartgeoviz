{
 "cells": [
  {
   "cell_type": "code",
   "execution_count": 61,
   "id": "0b49a2ae-a31b-423c-94dd-1c85eb11b60d",
   "metadata": {},
   "outputs": [],
   "source": [
    "import io\n",
    "import re\n",
    "import matplotlib.pyplot as plt\n",
    "import string\n",
    "import numpy as np\n",
    "import pandas as pd\n",
    "from utils import *\n",
    "\n",
    "import tensorflow as tf\n",
    "from tensorflow.keras import Sequential\n",
    "from tensorflow.keras import layers\n",
    "from tensorflow.keras.layers import Dense, Embedding, GlobalAveragePooling1D\n",
    "from tensorflow.keras.layers.experimental.preprocessing import TextVectorization\n",
    "from tensorflow.keras.layers.experimental import preprocessing"
   ]
  },
  {
   "cell_type": "code",
   "execution_count": 63,
   "id": "a667500c-472b-47b9-bcea-361800aa1e3e",
   "metadata": {},
   "outputs": [],
   "source": [
    "# iterate through zip file of occ reports to construct a dataframe (may take a while)\n",
    "\n",
    "#occ_df = read_word_doc_zip_as_df('occ-report-docs/occ-reports.zip')"
   ]
  },
  {
   "cell_type": "code",
   "execution_count": 64,
   "id": "04b08f44-8f2c-4ace-9a47-e6713afafd3f",
   "metadata": {},
   "outputs": [],
   "source": [
    "#occ_df = occ_df[[\"Time\", \"Log\", \"BPD\"]]\n",
    "#occ_df['BPD'] = occ_df['BPD'].apply(lambda x: str(x).strip())"
   ]
  },
  {
   "cell_type": "code",
   "execution_count": 65,
   "id": "63a6cf8a-d165-41b3-b37e-8c9a6385f1b4",
   "metadata": {},
   "outputs": [],
   "source": [
    "#csv = occ_df.to_csv('csv/occ-reports.csv', index=False)"
   ]
  },
  {
   "cell_type": "code",
   "execution_count": 66,
   "id": "727d62bd-16a3-45d3-bea0-f80784f52af3",
   "metadata": {},
   "outputs": [],
   "source": [
    "#csv_to_dataset(csv_path, batch_size, label, num_epochs)"
   ]
  },
  {
   "cell_type": "code",
   "execution_count": 69,
   "id": "0e71fbb4-2c12-4b2c-9196-96f3ea003c2a",
   "metadata": {},
   "outputs": [
    {
     "name": "stderr",
     "output_type": "stream",
     "text": [
      "<ipython-input-69-7c588d8d5f06>:6: SettingWithCopyWarning: \n",
      "A value is trying to be set on a copy of a slice from a DataFrame.\n",
      "Try using .loc[row_indexer,col_indexer] = value instead\n",
      "\n",
      "See the caveats in the documentation: https://pandas.pydata.org/pandas-docs/stable/user_guide/indexing.html#returning-a-view-versus-a-copy\n",
      "  labeled_df[\"Time\"] = labeled_df[\"Time\"].apply(lambda x: re.sub(\"[^0-9]\", \"\", x))\n",
      "<ipython-input-69-7c588d8d5f06>:10: SettingWithCopyWarning: \n",
      "A value is trying to be set on a copy of a slice from a DataFrame.\n",
      "Try using .loc[row_indexer,col_indexer] = value instead\n",
      "\n",
      "See the caveats in the documentation: https://pandas.pydata.org/pandas-docs/stable/user_guide/indexing.html#returning-a-view-versus-a-copy\n",
      "  labeled_df['Cat'] = labeled_df['Cat'].apply(lambda x: int(x))\n"
     ]
    },
    {
     "data": {
      "text/html": [
       "<div>\n",
       "<style scoped>\n",
       "    .dataframe tbody tr th:only-of-type {\n",
       "        vertical-align: middle;\n",
       "    }\n",
       "\n",
       "    .dataframe tbody tr th {\n",
       "        vertical-align: top;\n",
       "    }\n",
       "\n",
       "    .dataframe thead th {\n",
       "        text-align: right;\n",
       "    }\n",
       "</style>\n",
       "<table border=\"1\" class=\"dataframe\">\n",
       "  <thead>\n",
       "    <tr style=\"text-align: right;\">\n",
       "      <th></th>\n",
       "      <th>Time</th>\n",
       "      <th>Log</th>\n",
       "      <th>Cat</th>\n",
       "    </tr>\n",
       "  </thead>\n",
       "  <tbody>\n",
       "    <tr>\n",
       "      <th>0</th>\n",
       "      <td>2</td>\n",
       "      <td>T385 released, 5 minutes late.</td>\n",
       "      <td>10</td>\n",
       "    </tr>\n",
       "    <tr>\n",
       "      <th>1</th>\n",
       "      <td>400</td>\n",
       "      <td>CAR COUNT\\nA’s:  51   B’s:   329   C’s:   172 ...</td>\n",
       "      <td>10</td>\n",
       "    </tr>\n",
       "    <tr>\n",
       "      <th>2</th>\n",
       "      <td>0400</td>\n",
       "      <td>Daily SCRAM / Spare Train Report: OCY: T337 Ho...</td>\n",
       "      <td>10</td>\n",
       "    </tr>\n",
       "    <tr>\n",
       "      <th>3</th>\n",
       "      <td>443</td>\n",
       "      <td>T229 late dispatching OHY due to FW scheduling...</td>\n",
       "      <td>7</td>\n",
       "    </tr>\n",
       "    <tr>\n",
       "      <th>4</th>\n",
       "      <td>447</td>\n",
       "      <td>T229 verifies A78 [A1 &amp; A2 tracks] cranked, cl...</td>\n",
       "      <td>6</td>\n",
       "    </tr>\n",
       "  </tbody>\n",
       "</table>\n",
       "</div>"
      ],
      "text/plain": [
       "   Time                                                Log  Cat\n",
       "0     2                     T385 released, 5 minutes late.   10\n",
       "1   400  CAR COUNT\\nA’s:  51   B’s:   329   C’s:   172 ...   10\n",
       "2  0400  Daily SCRAM / Spare Train Report: OCY: T337 Ho...   10\n",
       "3   443  T229 late dispatching OHY due to FW scheduling...    7\n",
       "4   447  T229 verifies A78 [A1 & A2 tracks] cranked, cl...    6"
      ]
     },
     "execution_count": 69,
     "metadata": {},
     "output_type": "execute_result"
    }
   ],
   "source": [
    "occ_df = pd.read_csv('csv/nadav-labeled-2.csv')\n",
    "occ_df = occ_df[[\"Time\", \"Log\", \"Cat\"]]\n",
    "\n",
    "# first 100 rows are labeled\n",
    "labeled_df = occ_df.iloc[:500,:]\n",
    "labeled_df[\"Time\"] = labeled_df[\"Time\"].apply(lambda x: re.sub(\"[^0-9]\", \"\", x))\n",
    "unlabeled_df = occ_df.iloc[501:,:]\n",
    "\n",
    "#labeled_df = labeled_df[labeled_df.Cat.apply(lambda x: x.isnumeric())]\n",
    "labeled_df['Cat'] = labeled_df['Cat'].apply(lambda x: int(x))\n",
    "labeled_df.head(5)"
   ]
  },
  {
   "cell_type": "code",
   "execution_count": 97,
   "id": "8218f238-a4ce-4842-8ab8-d1760f230373",
   "metadata": {},
   "outputs": [],
   "source": [
    "# Save dataframes as csv files\n",
    "\n",
    "labeled_df.to_csv('csv/labeled.csv', index=False)\n",
    "unlabeled_df.to_csv('csv/unlabeled.csv', index=False)"
   ]
  },
  {
   "cell_type": "code",
   "execution_count": 98,
   "id": "73326ee4-19b2-42e4-9135-59a9fc4208aa",
   "metadata": {},
   "outputs": [],
   "source": [
    "# Convert csv to tf dataset\n",
    "\n",
    "labeled_ds = csv_to_dataset('csv/labeled.csv', batch_size=1, label='Cat', num_epochs=1)\n",
    "unlabeled_ds = csv_to_dataset('csv/unlabeled.csv', batch_size=1, label='Cat', num_epochs=1)"
   ]
  },
  {
   "cell_type": "code",
   "execution_count": 99,
   "id": "917441b5-cbf9-419b-9498-c20ef402cc42",
   "metadata": {},
   "outputs": [],
   "source": [
    "# Split labeled dataset into train and validation sets (planning on implementing k-fold cross validation)\n",
    "labeled_ds = labeled_ds.shuffle(500)\n",
    "train_ds = labeled_ds.take(400)\n",
    "val_ds = labeled_ds.skip(400)"
   ]
  },
  {
   "cell_type": "code",
   "execution_count": 100,
   "id": "3369f92d-cedf-447f-9789-c9d8d5fc5094",
   "metadata": {},
   "outputs": [],
   "source": [
    "# Not really sure what this does but apparently it make the code run faster \n",
    "AUTOTUNE = tf.data.AUTOTUNE\n",
    "\n",
    "train_ds = train_ds.cache().prefetch(buffer_size=AUTOTUNE)\n",
    "val_ds = val_ds.cache().prefetch(buffer_size=AUTOTUNE)"
   ]
  },
  {
   "cell_type": "code",
   "execution_count": 101,
   "id": "9ac34c90-2d9d-4a46-9b90-2cbfddd76173",
   "metadata": {},
   "outputs": [],
   "source": [
    "# Vocabulary size and number of words in a sequence.\n",
    "vocab_size = 10000\n",
    "sequence_length = 20\n",
    "\n",
    "# Use the text vectorization layer to normalize, split, and map strings to\n",
    "# integers. Note that the layer uses the custom standardization defined above.\n",
    "# Set maximum_sequence length as all samples are not of the same length.\n",
    "vectorize_layer = TextVectorization(\n",
    "    standardize=\"lower_and_strip_punctuation\",\n",
    "    max_tokens=vocab_size,\n",
    "    output_mode='int',\n",
    "    output_sequence_length=sequence_length)\n",
    "\n",
    "# Make a text-only dataset (no labels) and call adapt to build the vocabulary.\n",
    "text_ds = train_ds.map(lambda x, y: x['Log'])\n",
    "vectorize_layer.adapt(text_ds)"
   ]
  },
  {
   "cell_type": "code",
   "execution_count": 102,
   "id": "c05e60ed-ce6b-4e4e-94a5-7409d28fd886",
   "metadata": {},
   "outputs": [],
   "source": [
    "# hyperparameters\n",
    "embedding_dim=5\n",
    "hidden_layers=20\n",
    "\n",
    "model = Sequential([\n",
    "  vectorize_layer,                                         # Map strings to integer indices within the vocabulary\n",
    "  Embedding(vocab_size, embedding_dim, name=\"embedding\"),  # Maps integer indices (which stand for specific words) to dense vectors (their embeddings)\n",
    "  GlobalAveragePooling1D(),                                # Average of the embedding values over sequence length\n",
    "  Dense(hidden_layers, activation='relu'),\n",
    "  Dense(hidden_layers, activation='relu'),\n",
    "  Dense(14, activation=\"softmax\")                          # Output layer\n",
    "])"
   ]
  },
  {
   "cell_type": "code",
   "execution_count": 103,
   "id": "11d43b67-c9c5-49a1-8cb9-9387acf454b1",
   "metadata": {},
   "outputs": [],
   "source": [
    "tensorboard_callback = tf.keras.callbacks.TensorBoard(log_dir=\"logs\")"
   ]
  },
  {
   "cell_type": "code",
   "execution_count": 104,
   "id": "5a72a443-3adb-437e-8413-89c1d3d52c89",
   "metadata": {},
   "outputs": [],
   "source": [
    "model.compile(optimizer='adam',\n",
    "              loss=tf.keras.losses.SparseCategoricalCrossentropy(),\n",
    "              metrics=['accuracy'])"
   ]
  },
  {
   "cell_type": "code",
   "execution_count": 105,
   "id": "edece6a9-d986-48e0-8caf-9675c561316a",
   "metadata": {},
   "outputs": [],
   "source": [
    "cp_callback = tf.keras.callbacks.ModelCheckpoint(filepath=\"checkpints\",\n",
    "                                                 save_weights_only=True,\n",
    "                                                 verbose=1)"
   ]
  },
  {
   "cell_type": "code",
   "execution_count": 106,
   "id": "18c43937-59f7-451d-b2b9-b1c260b5e573",
   "metadata": {},
   "outputs": [
    {
     "name": "stdout",
     "output_type": "stream",
     "text": [
      "Epoch 1/30\n"
     ]
    },
    {
     "name": "stderr",
     "output_type": "stream",
     "text": [
      "/anaconda/envs/py38_default/lib/python3.8/site-packages/keras/engine/functional.py:582: UserWarning: Input dict contained keys ['Time', 'Log'] which did not match any model input. They will be ignored by the model.\n",
      "  warnings.warn(\n"
     ]
    },
    {
     "name": "stdout",
     "output_type": "stream",
     "text": [
      "400/400 [==============================] - 1s 2ms/step - loss: 2.0410 - accuracy: 0.3975 - val_loss: 1.7396 - val_accuracy: 0.4200\n",
      "Epoch 2/30\n",
      "400/400 [==============================] - 1s 2ms/step - loss: 1.6412 - accuracy: 0.4100 - val_loss: 1.5637 - val_accuracy: 0.4100\n",
      "Epoch 3/30\n",
      "400/400 [==============================] - 1s 2ms/step - loss: 1.4341 - accuracy: 0.4600 - val_loss: 1.3686 - val_accuracy: 0.5100\n",
      "Epoch 4/30\n",
      "400/400 [==============================] - 1s 2ms/step - loss: 1.2497 - accuracy: 0.5625 - val_loss: 1.1936 - val_accuracy: 0.6300\n",
      "Epoch 5/30\n",
      "400/400 [==============================] - 1s 2ms/step - loss: 1.0926 - accuracy: 0.6150 - val_loss: 1.0351 - val_accuracy: 0.6600\n",
      "Epoch 6/30\n",
      "400/400 [==============================] - 1s 2ms/step - loss: 0.9602 - accuracy: 0.6375 - val_loss: 0.9109 - val_accuracy: 0.6700\n",
      "Epoch 7/30\n",
      "400/400 [==============================] - 1s 2ms/step - loss: 0.8557 - accuracy: 0.6650 - val_loss: 0.8046 - val_accuracy: 0.7000\n",
      "Epoch 8/30\n",
      "400/400 [==============================] - 1s 2ms/step - loss: 0.7601 - accuracy: 0.7300 - val_loss: 0.7022 - val_accuracy: 0.8200\n",
      "Epoch 9/30\n",
      "400/400 [==============================] - 1s 2ms/step - loss: 0.6611 - accuracy: 0.7925 - val_loss: 0.6080 - val_accuracy: 0.8200\n",
      "Epoch 10/30\n",
      "400/400 [==============================] - 1s 2ms/step - loss: 0.5663 - accuracy: 0.8150 - val_loss: 0.5153 - val_accuracy: 0.8500\n",
      "Epoch 11/30\n",
      "400/400 [==============================] - 1s 2ms/step - loss: 0.4845 - accuracy: 0.8325 - val_loss: 0.4515 - val_accuracy: 0.8500\n",
      "Epoch 12/30\n",
      "400/400 [==============================] - 1s 2ms/step - loss: 0.4214 - accuracy: 0.8425 - val_loss: 0.4034 - val_accuracy: 0.8500\n",
      "Epoch 13/30\n",
      "400/400 [==============================] - 1s 2ms/step - loss: 0.3749 - accuracy: 0.8550 - val_loss: 0.3675 - val_accuracy: 0.8900\n",
      "Epoch 14/30\n",
      "400/400 [==============================] - 1s 2ms/step - loss: 0.3369 - accuracy: 0.8800 - val_loss: 0.3376 - val_accuracy: 0.8900\n",
      "Epoch 15/30\n",
      "400/400 [==============================] - 1s 2ms/step - loss: 0.2996 - accuracy: 0.9025 - val_loss: 0.3059 - val_accuracy: 0.9100\n",
      "Epoch 16/30\n",
      "400/400 [==============================] - 1s 2ms/step - loss: 0.2686 - accuracy: 0.9125 - val_loss: 0.2731 - val_accuracy: 0.9400\n",
      "Epoch 17/30\n",
      "400/400 [==============================] - 1s 2ms/step - loss: 0.2351 - accuracy: 0.9225 - val_loss: 0.2571 - val_accuracy: 0.9400\n",
      "Epoch 18/30\n",
      "400/400 [==============================] - 1s 2ms/step - loss: 0.2067 - accuracy: 0.9350 - val_loss: 0.2261 - val_accuracy: 0.9600\n",
      "Epoch 19/30\n",
      "400/400 [==============================] - 1s 2ms/step - loss: 0.1790 - accuracy: 0.9500 - val_loss: 0.2116 - val_accuracy: 0.9600\n",
      "Epoch 20/30\n",
      "400/400 [==============================] - 1s 2ms/step - loss: 0.1579 - accuracy: 0.9575 - val_loss: 0.1992 - val_accuracy: 0.9600\n",
      "Epoch 21/30\n",
      "400/400 [==============================] - 1s 2ms/step - loss: 0.1366 - accuracy: 0.9625 - val_loss: 0.1892 - val_accuracy: 0.9600\n",
      "Epoch 22/30\n",
      "400/400 [==============================] - 1s 2ms/step - loss: 0.1194 - accuracy: 0.9625 - val_loss: 0.1902 - val_accuracy: 0.9600\n",
      "Epoch 23/30\n",
      "400/400 [==============================] - 1s 2ms/step - loss: 0.1020 - accuracy: 0.9675 - val_loss: 0.1807 - val_accuracy: 0.9600\n",
      "Epoch 24/30\n",
      "400/400 [==============================] - 1s 2ms/step - loss: 0.0895 - accuracy: 0.9700 - val_loss: 0.1890 - val_accuracy: 0.9500\n",
      "Epoch 25/30\n",
      "400/400 [==============================] - 1s 2ms/step - loss: 0.0781 - accuracy: 0.9750 - val_loss: 0.1782 - val_accuracy: 0.9600\n",
      "Epoch 26/30\n",
      "400/400 [==============================] - 1s 2ms/step - loss: 0.0696 - accuracy: 0.9825 - val_loss: 0.1941 - val_accuracy: 0.9500\n",
      "Epoch 27/30\n",
      "400/400 [==============================] - 1s 2ms/step - loss: 0.0611 - accuracy: 0.9850 - val_loss: 0.1784 - val_accuracy: 0.9400\n",
      "Epoch 28/30\n",
      "400/400 [==============================] - 1s 2ms/step - loss: 0.0555 - accuracy: 0.9875 - val_loss: 0.1992 - val_accuracy: 0.9500\n",
      "Epoch 29/30\n",
      "400/400 [==============================] - 1s 2ms/step - loss: 0.0478 - accuracy: 0.9950 - val_loss: 0.1980 - val_accuracy: 0.9500\n",
      "Epoch 30/30\n",
      "400/400 [==============================] - 1s 2ms/step - loss: 0.0444 - accuracy: 0.9950 - val_loss: 0.2023 - val_accuracy: 0.9600\n"
     ]
    }
   ],
   "source": [
    "history = model.fit(\n",
    "    train_ds,\n",
    "    validation_data=val_ds,\n",
    "    epochs=30,\n",
    "    callbacks=[tensorboard_callback])"
   ]
  },
  {
   "cell_type": "code",
   "execution_count": 107,
   "id": "9fddf911-01d6-4448-9e49-e154d4115752",
   "metadata": {},
   "outputs": [
    {
     "name": "stdout",
     "output_type": "stream",
     "text": [
      "400/400 [==============================] - 0s 1ms/step - loss: 0.0398 - accuracy: 0.9925\n",
      "Loss:  0.03984154760837555\n",
      "Accuracy:  0.9925000071525574\n"
     ]
    }
   ],
   "source": [
    "loss, accuracy = model.evaluate(train_ds)\n",
    "\n",
    "print(\"Loss: \", loss)\n",
    "print(\"Accuracy: \", accuracy)"
   ]
  },
  {
   "cell_type": "code",
   "execution_count": 108,
   "id": "8f13af8d-df75-45e1-a6a2-fafb363a7a55",
   "metadata": {},
   "outputs": [
    {
     "data": {
      "text/plain": [
       "dict_keys(['loss', 'accuracy', 'val_loss', 'val_accuracy'])"
      ]
     },
     "execution_count": 108,
     "metadata": {},
     "output_type": "execute_result"
    }
   ],
   "source": [
    "history_dict = history.history\n",
    "history_dict.keys()"
   ]
  },
  {
   "cell_type": "code",
   "execution_count": 109,
   "id": "6f35e65b-068b-40e6-8b21-e8322ac45b6b",
   "metadata": {},
   "outputs": [
    {
     "data": {
      "image/png": "[encoded data removed]",
      "text/plain": [
       "<Figure size 432x288 with 1 Axes>"
      ]
     },
     "metadata": {
      "needs_background": "light"
     },
     "output_type": "display_data"
    }
   ],
   "source": [
    "acc = history_dict['accuracy']\n",
    "val_acc = history_dict['val_accuracy']\n",
    "loss = history_dict['loss']\n",
    "val_loss = history_dict['val_loss']\n",
    "\n",
    "epochs = range(1, len(acc) + 1)\n",
    "\n",
    "# \"bo\" is for \"blue dot\"\n",
    "plt.plot(epochs, loss, 'bo', label='Training loss')\n",
    "# b is for \"solid blue line\"\n",
    "plt.plot(epochs, val_loss, 'b', label='Validation loss')\n",
    "plt.title('Training and validation loss')\n",
    "plt.xlabel('Epochs')\n",
    "plt.ylabel('Loss')\n",
    "plt.legend()\n",
    "\n",
    "plt.show()"
   ]
  },
  {
   "cell_type": "code",
   "execution_count": 110,
   "id": "d48d2cf4-0912-4160-96c4-2ccfc0586a9e",
   "metadata": {},
   "outputs": [
    {
     "data": {
      "image/png": "[encoded data removed]",
      "text/plain": [
       "<Figure size 432x288 with 1 Axes>"
      ]
     },
     "metadata": {
      "needs_background": "light"
     },
     "output_type": "display_data"
    }
   ],
   "source": [
    "plt.plot(epochs, acc, 'bo', label='Training acc')\n",
    "plt.plot(epochs, val_acc, 'b', label='Validation acc')\n",
    "plt.title('Training and validation accuracy')\n",
    "plt.xlabel('Epochs')\n",
    "plt.ylabel('Accuracy')\n",
    "plt.legend(loc='lower right')\n",
    "\n",
    "plt.show()"
   ]
  },
  {
   "cell_type": "code",
   "execution_count": 111,
   "id": "8a1258ff-47dc-4aca-a876-d84f08f8d28d",
   "metadata": {},
   "outputs": [],
   "source": [
    "# Save word embeddings \n",
    "# view embedding @ http://projector.tensorflow.org/\n",
    "# upload vectors.tsv and metadata.tsv\n",
    "\n",
    "weights = model.get_layer('embedding').get_weights()[0]\n",
    "vocab = vectorize_layer.get_vocabulary()\n",
    "\n",
    "save_embeddings(weights, vocab)"
   ]
  },
  {
   "cell_type": "code",
   "execution_count": 115,
   "id": "7b2b5439-7fb1-40bd-b6d6-fa5ce33159cc",
   "metadata": {},
   "outputs": [
    {
     "name": "stdout",
     "output_type": "stream",
     "text": [
      "INFO:tensorflow:Assets written to: model/assets\n"
     ]
    }
   ],
   "source": [
    "model.save('model')"
   ]
  },
  {
   "cell_type": "code",
   "execution_count": 113,
   "id": "91802018-c6cc-4b68-81ae-a0a8d5fbc940",
   "metadata": {},
   "outputs": [],
   "source": [
    "model.save_weights('checkpoints/my_checkpoint')"
   ]
  },
  {
   "cell_type": "code",
   "execution_count": 116,
   "id": "468a954d-d2c3-43ac-8dfa-2dda1064418b",
   "metadata": {},
   "outputs": [],
   "source": [
    "onion = tf.keras.models.load_model(\"model\")"
   ]
  },
  {
   "cell_type": "code",
   "execution_count": 117,
   "id": "6d131f80-79f6-4a56-91ac-ba510c22276d",
   "metadata": {},
   "outputs": [],
   "source": [
    "class_legend = MLB_team = {\n",
    "    0:\"Misc\",\n",
    "    1:'Other BPD',\n",
    "    2:'Homeless',\n",
    "    3:'Medical',\n",
    "    4:'Patron interference',\n",
    "    5:\"Vehicle failure\",\n",
    "    6:\"Wayside equipment\",\n",
    "    7:\"Software related failures\",\n",
    "    8:\"Human Error\",\n",
    "    9:\"Weather\",\n",
    "    10:\"Info (no error)\",\n",
    "    11:\"Delays\",\n",
    "    12:\"Track obstruction\",\n",
    "    13:\"Schedule maintenance\"\n",
    "}"
   ]
  },
  {
   "cell_type": "code",
   "execution_count": 118,
   "id": "0d1c3745-3367-4270-aed3-816176ac7c84",
   "metadata": {},
   "outputs": [
    {
     "data": {
      "text/plain": [
       "keras.engine.sequential.Sequential"
      ]
     },
     "execution_count": 118,
     "metadata": {},
     "output_type": "execute_result"
    }
   ],
   "source": [
    "type(model)"
   ]
  },
  {
   "cell_type": "code",
   "execution_count": 119,
   "id": "cb066d7f-7f19-4d98-9307-303763f51368",
   "metadata": {},
   "outputs": [
    {
     "name": "stdout",
     "output_type": "stream",
     "text": [
      "Misc\n",
      "Human Error\n",
      "Other BPD\n"
     ]
    }
   ],
   "source": [
    "for log in [\"T221 late arrival to K30-2\", \n",
    "            \"DMZ1 cleared Cat B W/O's for the M55XL. Protections released.\", \n",
    "            \"T445 BPD hold K30-1 for a half naked man on the trail c346.\"\n",
    "           ]:\n",
    "    print(class_legend[np.argmax(model.predict([log]))])"
   ]
  },
  {
   "cell_type": "code",
   "execution_count": 120,
   "id": "f8268d79-a6bf-49a9-abbc-7709e6d6b9bc",
   "metadata": {},
   "outputs": [
    {
     "name": "stderr",
     "output_type": "stream",
     "text": [
      "<ipython-input-120-a4d23db6745c>:1: SettingWithCopyWarning: \n",
      "A value is trying to be set on a copy of a slice from a DataFrame.\n",
      "Try using .loc[row_indexer,col_indexer] = value instead\n",
      "\n",
      "See the caveats in the documentation: https://pandas.pydata.org/pandas-docs/stable/user_guide/indexing.html#returning-a-view-versus-a-copy\n",
      "  labeled_df['Log'] = labeled_df['Log'].apply(lambda log: str(log))\n"
     ]
    }
   ],
   "source": [
    "labeled_df['Log'] = labeled_df['Log'].apply(lambda log: str(log))"
   ]
  },
  {
   "cell_type": "code",
   "execution_count": 121,
   "id": "b3ef57cb-414c-4863-9307-877740cef8b0",
   "metadata": {},
   "outputs": [
    {
     "name": "stderr",
     "output_type": "stream",
     "text": [
      "<ipython-input-121-d8dd946d9a9e>:1: SettingWithCopyWarning: \n",
      "A value is trying to be set on a copy of a slice from a DataFrame.\n",
      "Try using .loc[row_indexer,col_indexer] = value instead\n",
      "\n",
      "See the caveats in the documentation: https://pandas.pydata.org/pandas-docs/stable/user_guide/indexing.html#returning-a-view-versus-a-copy\n",
      "  labeled_df['Pred'] = labeled_df['Log'].apply(lambda log: np.argmax(model.predict([log]), axis=1)[0])\n"
     ]
    }
   ],
   "source": [
    "labeled_df['Pred'] = labeled_df['Log'].apply(lambda log: np.argmax(model.predict([log]), axis=1)[0])\n"
   ]
  },
  {
   "cell_type": "code",
   "execution_count": 122,
   "id": "be598b04-4aaa-4398-a6ea-dbe548fade68",
   "metadata": {},
   "outputs": [
    {
     "data": {
      "text/html": [
       "<div>\n",
       "<style scoped>\n",
       "    .dataframe tbody tr th:only-of-type {\n",
       "        vertical-align: middle;\n",
       "    }\n",
       "\n",
       "    .dataframe tbody tr th {\n",
       "        vertical-align: top;\n",
       "    }\n",
       "\n",
       "    .dataframe thead th {\n",
       "        text-align: right;\n",
       "    }\n",
       "</style>\n",
       "<table border=\"1\" class=\"dataframe\">\n",
       "  <thead>\n",
       "    <tr style=\"text-align: right;\">\n",
       "      <th></th>\n",
       "      <th>Time</th>\n",
       "      <th>Log</th>\n",
       "      <th>Cat</th>\n",
       "      <th>Pred</th>\n",
       "    </tr>\n",
       "  </thead>\n",
       "  <tbody>\n",
       "    <tr>\n",
       "      <th>300</th>\n",
       "      <td>1054</td>\n",
       "      <td>T379 BPD hold at K30-4 for drug activty.</td>\n",
       "      <td>1</td>\n",
       "      <td>1</td>\n",
       "    </tr>\n",
       "    <tr>\n",
       "      <th>301</th>\n",
       "      <td>1056</td>\n",
       "      <td>T103 no ATO doors at A10-2, 311.</td>\n",
       "      <td>5</td>\n",
       "      <td>5</td>\n",
       "    </tr>\n",
       "    <tr>\n",
       "      <th>302</th>\n",
       "      <td>1058</td>\n",
       "      <td>T109 no ATO doors at S20-1, 311.</td>\n",
       "      <td>5</td>\n",
       "      <td>5</td>\n",
       "    </tr>\n",
       "    <tr>\n",
       "      <th>303</th>\n",
       "      <td>1059</td>\n",
       "      <td>T379 released ATO, now (5) minutes late. T241 ...</td>\n",
       "      <td>11</td>\n",
       "      <td>11</td>\n",
       "    </tr>\n",
       "    <tr>\n",
       "      <th>304</th>\n",
       "      <td>1103</td>\n",
       "      <td>T455 routed up the MX/CX track. Door TPA made.</td>\n",
       "      <td>11</td>\n",
       "      <td>11</td>\n",
       "    </tr>\n",
       "    <tr>\n",
       "      <th>305</th>\n",
       "      <td>1104</td>\n",
       "      <td>T503 no ATO doors at M30-1, 311.</td>\n",
       "      <td>5</td>\n",
       "      <td>5</td>\n",
       "    </tr>\n",
       "    <tr>\n",
       "      <th>306</th>\n",
       "      <td>1104</td>\n",
       "      <td>T235 no ATO doors at S20-2, 311.</td>\n",
       "      <td>5</td>\n",
       "      <td>5</td>\n",
       "    </tr>\n",
       "    <tr>\n",
       "      <th>307</th>\n",
       "      <td>1104</td>\n",
       "      <td>T501 no ATO doors at M90-1, 311.</td>\n",
       "      <td>5</td>\n",
       "      <td>5</td>\n",
       "    </tr>\n",
       "    <tr>\n",
       "      <th>308</th>\n",
       "      <td>1106</td>\n",
       "      <td>T503 no ATO doors at M40-1, 311.</td>\n",
       "      <td>5</td>\n",
       "      <td>5</td>\n",
       "    </tr>\n",
       "    <tr>\n",
       "      <th>309</th>\n",
       "      <td>1110</td>\n",
       "      <td>T503 no ATO doors at M50-1, 311.</td>\n",
       "      <td>5</td>\n",
       "      <td>5</td>\n",
       "    </tr>\n",
       "    <tr>\n",
       "      <th>310</th>\n",
       "      <td>1113</td>\n",
       "      <td>T503 no ATO doors at M60-1, 311.</td>\n",
       "      <td>5</td>\n",
       "      <td>5</td>\n",
       "    </tr>\n",
       "    <tr>\n",
       "      <th>311</th>\n",
       "      <td>1116</td>\n",
       "      <td>T503 no ATO doors at M70-1, 311.</td>\n",
       "      <td>5</td>\n",
       "      <td>5</td>\n",
       "    </tr>\n",
       "    <tr>\n",
       "      <th>312</th>\n",
       "      <td>1117</td>\n",
       "      <td>T237 no ATO doors at S20-2, 311.</td>\n",
       "      <td>5</td>\n",
       "      <td>5</td>\n",
       "    </tr>\n",
       "    <tr>\n",
       "      <th>313</th>\n",
       "      <td>1119</td>\n",
       "      <td>T503 no ATO doors at M80-1, 311.</td>\n",
       "      <td>5</td>\n",
       "      <td>5</td>\n",
       "    </tr>\n",
       "    <tr>\n",
       "      <th>314</th>\n",
       "      <td>1119</td>\n",
       "      <td>T459 no ATO doors at M20-2, 311.</td>\n",
       "      <td>5</td>\n",
       "      <td>5</td>\n",
       "    </tr>\n",
       "    <tr>\n",
       "      <th>315</th>\n",
       "      <td>1123</td>\n",
       "      <td>T503 no ATO doors at M90-1, 311.</td>\n",
       "      <td>5</td>\n",
       "      <td>5</td>\n",
       "    </tr>\n",
       "    <tr>\n",
       "      <th>316</th>\n",
       "      <td>1125</td>\n",
       "      <td>T113 no ATO doors at S20-1, 311.</td>\n",
       "      <td>5</td>\n",
       "      <td>5</td>\n",
       "    </tr>\n",
       "    <tr>\n",
       "      <th>317</th>\n",
       "      <td>1125</td>\n",
       "      <td>T237 no ATO doors at S20-2, 311.</td>\n",
       "      <td>5</td>\n",
       "      <td>5</td>\n",
       "    </tr>\n",
       "    <tr>\n",
       "      <th>318</th>\n",
       "      <td>1128</td>\n",
       "      <td>T113 no ATO doors at S20-1, 311.</td>\n",
       "      <td>5</td>\n",
       "      <td>5</td>\n",
       "    </tr>\n",
       "    <tr>\n",
       "      <th>319</th>\n",
       "      <td>1130</td>\n",
       "      <td>T223 BPD hold at A10-2 for an intoxicated pass...</td>\n",
       "      <td>4</td>\n",
       "      <td>4</td>\n",
       "    </tr>\n",
       "    <tr>\n",
       "      <th>320</th>\n",
       "      <td>1140</td>\n",
       "      <td>T223 released ATO, now (4.5) minutes late.</td>\n",
       "      <td>11</td>\n",
       "      <td>11</td>\n",
       "    </tr>\n",
       "    <tr>\n",
       "      <th>321</th>\n",
       "      <td>1142</td>\n",
       "      <td>T239 no ATO doors at S20-2, 311.</td>\n",
       "      <td>5</td>\n",
       "      <td>5</td>\n",
       "    </tr>\n",
       "    <tr>\n",
       "      <th>322</th>\n",
       "      <td>1144</td>\n",
       "      <td>T301 no ATO doors at Y10-3, 311.</td>\n",
       "      <td>5</td>\n",
       "      <td>5</td>\n",
       "    </tr>\n",
       "    <tr>\n",
       "      <th>323</th>\n",
       "      <td>1145</td>\n",
       "      <td>T233 BPD hold at R20-1 for a welfare check.</td>\n",
       "      <td>1</td>\n",
       "      <td>1</td>\n",
       "    </tr>\n",
       "    <tr>\n",
       "      <th>324</th>\n",
       "      <td>1147</td>\n",
       "      <td>T103 no ATO doors at M20-2, 311.</td>\n",
       "      <td>5</td>\n",
       "      <td>5</td>\n",
       "    </tr>\n",
       "    <tr>\n",
       "      <th>325</th>\n",
       "      <td>1151</td>\n",
       "      <td>T363 BPD hold at C40-2 for BPD to offboard a s...</td>\n",
       "      <td>1</td>\n",
       "      <td>1</td>\n",
       "    </tr>\n",
       "    <tr>\n",
       "      <th>326</th>\n",
       "      <td>1154</td>\n",
       "      <td>T233 released ATO, now (2.5) minutes late.</td>\n",
       "      <td>11</td>\n",
       "      <td>11</td>\n",
       "    </tr>\n",
       "    <tr>\n",
       "      <th>327</th>\n",
       "      <td>1154</td>\n",
       "      <td>T363 released ATO, no (3) minutes late.</td>\n",
       "      <td>11</td>\n",
       "      <td>11</td>\n",
       "    </tr>\n",
       "    <tr>\n",
       "      <th>328</th>\n",
       "      <td>1157</td>\n",
       "      <td>T241 no ATO doors at S20-2, 311.</td>\n",
       "      <td>5</td>\n",
       "      <td>5</td>\n",
       "    </tr>\n",
       "    <tr>\n",
       "      <th>329</th>\n",
       "      <td>1159</td>\n",
       "      <td>T117 no ATO doors at S20-1, 311.</td>\n",
       "      <td>5</td>\n",
       "      <td>5</td>\n",
       "    </tr>\n",
       "    <tr>\n",
       "      <th>330</th>\n",
       "      <td>1212</td>\n",
       "      <td>T221 no ATO doors at S20-2, 311.</td>\n",
       "      <td>5</td>\n",
       "      <td>5</td>\n",
       "    </tr>\n",
       "    <tr>\n",
       "      <th>331</th>\n",
       "      <td>1213</td>\n",
       "      <td>T119 no ATO doors at S20-1, 311.</td>\n",
       "      <td>5</td>\n",
       "      <td>5</td>\n",
       "    </tr>\n",
       "    <tr>\n",
       "      <th>332</th>\n",
       "      <td>1224</td>\n",
       "      <td>T223 no ATO doors at S20-2, 311.</td>\n",
       "      <td>5</td>\n",
       "      <td>5</td>\n",
       "    </tr>\n",
       "    <tr>\n",
       "      <th>333</th>\n",
       "      <td>1229</td>\n",
       "      <td>T363 no ATO doors at M20-1, 311.</td>\n",
       "      <td>5</td>\n",
       "      <td>5</td>\n",
       "    </tr>\n",
       "    <tr>\n",
       "      <th>334</th>\n",
       "      <td>1230</td>\n",
       "      <td>T373 BPD hold at C80 for a sweep.</td>\n",
       "      <td>1</td>\n",
       "      <td>1</td>\n",
       "    </tr>\n",
       "    <tr>\n",
       "      <th>335</th>\n",
       "      <td>1230</td>\n",
       "      <td>T377 BPD hold at C10-1 for a disturbance.</td>\n",
       "      <td>1</td>\n",
       "      <td>1</td>\n",
       "    </tr>\n",
       "    <tr>\n",
       "      <th>336</th>\n",
       "      <td>1230</td>\n",
       "      <td>T915 no ATO doors at M20-1, 311.</td>\n",
       "      <td>5</td>\n",
       "      <td>5</td>\n",
       "    </tr>\n",
       "    <tr>\n",
       "      <th>337</th>\n",
       "      <td>1232</td>\n",
       "      <td>T225 no ATO doors at S20-2, 311.</td>\n",
       "      <td>5</td>\n",
       "      <td>5</td>\n",
       "    </tr>\n",
       "    <tr>\n",
       "      <th>338</th>\n",
       "      <td>1233</td>\n",
       "      <td>T449 no ATO doors at M90-2, 311.</td>\n",
       "      <td>5</td>\n",
       "      <td>5</td>\n",
       "    </tr>\n",
       "    <tr>\n",
       "      <th>339</th>\n",
       "      <td>1235</td>\n",
       "      <td>T377 released ATO, now (1.5) minutes late.</td>\n",
       "      <td>11</td>\n",
       "      <td>11</td>\n",
       "    </tr>\n",
       "    <tr>\n",
       "      <th>340</th>\n",
       "      <td>1237</td>\n",
       "      <td>T373 released ATO, now (1.5) minutes late.</td>\n",
       "      <td>11</td>\n",
       "      <td>11</td>\n",
       "    </tr>\n",
       "    <tr>\n",
       "      <th>341</th>\n",
       "      <td>1239</td>\n",
       "      <td>T225 no ATO doors at S20-2, 311.</td>\n",
       "      <td>5</td>\n",
       "      <td>5</td>\n",
       "    </tr>\n",
       "    <tr>\n",
       "      <th>342</th>\n",
       "      <td>1241</td>\n",
       "      <td>M60 Fire summary alarm, manual pull activated,...</td>\n",
       "      <td>1</td>\n",
       "      <td>1</td>\n",
       "    </tr>\n",
       "    <tr>\n",
       "      <th>343</th>\n",
       "      <td>1242</td>\n",
       "      <td>T365 no ATO doors at M16-1, 311.</td>\n",
       "      <td>5</td>\n",
       "      <td>5</td>\n",
       "    </tr>\n",
       "    <tr>\n",
       "      <th>344</th>\n",
       "      <td>1243</td>\n",
       "      <td>T113 no ATO doors at M90-1, 311.</td>\n",
       "      <td>5</td>\n",
       "      <td>5</td>\n",
       "    </tr>\n",
       "    <tr>\n",
       "      <th>345</th>\n",
       "      <td>1244</td>\n",
       "      <td>T365 no ATO doors at M20-1, 311.</td>\n",
       "      <td>5</td>\n",
       "      <td>5</td>\n",
       "    </tr>\n",
       "    <tr>\n",
       "      <th>346</th>\n",
       "      <td>1246</td>\n",
       "      <td>T365 no ATO doors at M30-1, 311.</td>\n",
       "      <td>5</td>\n",
       "      <td>5</td>\n",
       "    </tr>\n",
       "    <tr>\n",
       "      <th>347</th>\n",
       "      <td>1248</td>\n",
       "      <td>T227 no ATO doors at S20-2, 311.</td>\n",
       "      <td>5</td>\n",
       "      <td>5</td>\n",
       "    </tr>\n",
       "    <tr>\n",
       "      <th>348</th>\n",
       "      <td>1249</td>\n",
       "      <td>T365 no ATO doors at M40-1, 311.</td>\n",
       "      <td>5</td>\n",
       "      <td>5</td>\n",
       "    </tr>\n",
       "    <tr>\n",
       "      <th>349</th>\n",
       "      <td>1256</td>\n",
       "      <td>T227 no ATO doors at S20-2, 311.</td>\n",
       "      <td>5</td>\n",
       "      <td>5</td>\n",
       "    </tr>\n",
       "  </tbody>\n",
       "</table>\n",
       "</div>"
      ],
      "text/plain": [
       "     Time                                                Log  Cat  Pred\n",
       "300  1054           T379 BPD hold at K30-4 for drug activty.    1     1\n",
       "301  1056                   T103 no ATO doors at A10-2, 311.    5     5\n",
       "302  1058                   T109 no ATO doors at S20-1, 311.    5     5\n",
       "303  1059  T379 released ATO, now (5) minutes late. T241 ...   11    11\n",
       "304  1103     T455 routed up the MX/CX track. Door TPA made.   11    11\n",
       "305  1104                   T503 no ATO doors at M30-1, 311.    5     5\n",
       "306  1104                   T235 no ATO doors at S20-2, 311.    5     5\n",
       "307  1104                   T501 no ATO doors at M90-1, 311.    5     5\n",
       "308  1106                   T503 no ATO doors at M40-1, 311.    5     5\n",
       "309  1110                   T503 no ATO doors at M50-1, 311.    5     5\n",
       "310  1113                   T503 no ATO doors at M60-1, 311.    5     5\n",
       "311  1116                   T503 no ATO doors at M70-1, 311.    5     5\n",
       "312  1117                   T237 no ATO doors at S20-2, 311.    5     5\n",
       "313  1119                   T503 no ATO doors at M80-1, 311.    5     5\n",
       "314  1119                   T459 no ATO doors at M20-2, 311.    5     5\n",
       "315  1123                   T503 no ATO doors at M90-1, 311.    5     5\n",
       "316  1125                   T113 no ATO doors at S20-1, 311.    5     5\n",
       "317  1125                   T237 no ATO doors at S20-2, 311.    5     5\n",
       "318  1128                   T113 no ATO doors at S20-1, 311.    5     5\n",
       "319  1130  T223 BPD hold at A10-2 for an intoxicated pass...    4     4\n",
       "320  1140         T223 released ATO, now (4.5) minutes late.   11    11\n",
       "321  1142                   T239 no ATO doors at S20-2, 311.    5     5\n",
       "322  1144                   T301 no ATO doors at Y10-3, 311.    5     5\n",
       "323  1145        T233 BPD hold at R20-1 for a welfare check.    1     1\n",
       "324  1147                   T103 no ATO doors at M20-2, 311.    5     5\n",
       "325  1151  T363 BPD hold at C40-2 for BPD to offboard a s...    1     1\n",
       "326  1154         T233 released ATO, now (2.5) minutes late.   11    11\n",
       "327  1154            T363 released ATO, no (3) minutes late.   11    11\n",
       "328  1157                   T241 no ATO doors at S20-2, 311.    5     5\n",
       "329  1159                   T117 no ATO doors at S20-1, 311.    5     5\n",
       "330  1212                   T221 no ATO doors at S20-2, 311.    5     5\n",
       "331  1213                   T119 no ATO doors at S20-1, 311.    5     5\n",
       "332  1224                   T223 no ATO doors at S20-2, 311.    5     5\n",
       "333  1229                   T363 no ATO doors at M20-1, 311.    5     5\n",
       "334  1230                  T373 BPD hold at C80 for a sweep.    1     1\n",
       "335  1230          T377 BPD hold at C10-1 for a disturbance.    1     1\n",
       "336  1230                   T915 no ATO doors at M20-1, 311.    5     5\n",
       "337  1232                   T225 no ATO doors at S20-2, 311.    5     5\n",
       "338  1233                   T449 no ATO doors at M90-2, 311.    5     5\n",
       "339  1235         T377 released ATO, now (1.5) minutes late.   11    11\n",
       "340  1237         T373 released ATO, now (1.5) minutes late.   11    11\n",
       "341  1239                   T225 no ATO doors at S20-2, 311.    5     5\n",
       "342  1241  M60 Fire summary alarm, manual pull activated,...    1     1\n",
       "343  1242                   T365 no ATO doors at M16-1, 311.    5     5\n",
       "344  1243                   T113 no ATO doors at M90-1, 311.    5     5\n",
       "345  1244                   T365 no ATO doors at M20-1, 311.    5     5\n",
       "346  1246                   T365 no ATO doors at M30-1, 311.    5     5\n",
       "347  1248                   T227 no ATO doors at S20-2, 311.    5     5\n",
       "348  1249                   T365 no ATO doors at M40-1, 311.    5     5\n",
       "349  1256                   T227 no ATO doors at S20-2, 311.    5     5"
      ]
     },
     "execution_count": 122,
     "metadata": {},
     "output_type": "execute_result"
    }
   ],
   "source": [
    "labeled_df[300:].head(50)"
   ]
  },
  {
   "cell_type": "code",
   "execution_count": null,
   "id": "23a0917c-11ac-4673-abdf-e09263cf6cd5",
   "metadata": {},
   "outputs": [],
   "source": [
    "from sklearn.metrics import confusion_matrix, ConfusionMatrixDisplay"
   ]
  },
  {
   "cell_type": "code",
   "execution_count": null,
   "id": "7e91ec92-ea50-426f-b1dd-ffb4c3068721",
   "metadata": {},
   "outputs": [],
   "source": [
    "cm = confusion_matrix(labeled_df['Cat'], labeled_df['Pred'])"
   ]
  },
  {
   "cell_type": "code",
   "execution_count": null,
   "id": "2cfb0dfb-f05c-41a5-a909-b9749c839a01",
   "metadata": {},
   "outputs": [],
   "source": [
    "disp = ConfusionMatrixDisplay(confusion_matrix=cm)"
   ]
  },
  {
   "cell_type": "code",
   "execution_count": null,
   "id": "21edb0b2-57f7-4efc-80d6-5800db907463",
   "metadata": {},
   "outputs": [],
   "source": [
    "disp.plot()\n",
    "plt.show()"
   ]
  },
  {
   "cell_type": "code",
   "execution_count": null,
   "id": "fbf4e9fd-d086-4e2d-baeb-dea4d51fb63d",
   "metadata": {},
   "outputs": [],
   "source": [
    "import seaborn as sns\n",
    "plt.figure(figsize = (20,12))\n",
    "sns.heatmap(cm/np.sum(cm), annot=True, \n",
    "            fmt='10%', cmap='Blues')\n"
   ]
  },
  {
   "cell_type": "code",
   "execution_count": null,
   "id": "9454c189-9893-487d-9e0b-0221dff9f8db",
   "metadata": {},
   "outputs": [],
   "source": []
  }
 ],
 "metadata": {
  "kernelspec": {
   "display_name": "py38_default",
   "language": "python",
   "name": "conda-env-py38_default-py"
  },
  "language_info": {
   "codemirror_mode": {
    "name": "ipython",
    "version": 3
   },
   "file_extension": ".py",
   "mimetype": "text/x-python",
   "name": "python",
   "nbconvert_exporter": "python",
   "pygments_lexer": "ipython3",
   "version": "3.8.11"
  }
 },
 "nbformat": 4,
 "nbformat_minor": 5
}
