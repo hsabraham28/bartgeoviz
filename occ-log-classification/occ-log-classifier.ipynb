{
 "cells": [
  {
   "cell_type": "code",
   "execution_count": 11,
   "id": "0b49a2ae-a31b-423c-94dd-1c85eb11b60d",
   "metadata": {},
   "outputs": [],
   "source": [
    "import io\n",
    "import re\n",
    "import matplotlib.pyplot as plt\n",
    "import string\n",
    "import numpy as np\n",
    "import pandas as pd\n",
    "from utils import *\n",
    "\n",
    "import tensorflow as tf\n",
    "from tensorflow.keras import Sequential\n",
    "from tensorflow.keras import layers\n",
    "from tensorflow.keras.layers import Dense, Embedding, GlobalAveragePooling1D\n",
    "from tensorflow.keras.layers.experimental.preprocessing import TextVectorization\n",
    "from tensorflow.keras.layers.experimental import preprocessing"
   ]
  },
  {
   "cell_type": "code",
   "execution_count": 12,
   "id": "0a91d059-fa4c-4beb-a30a-73ef143a3a3e",
   "metadata": {},
   "outputs": [
    {
     "name": "stdout",
     "output_type": "stream",
     "text": [
      "<module 'tensorflow._api.v2.version' from '/anaconda/envs/py38_default/lib/python3.8/site-packages/tensorflow/_api/v2/version/__init__.py'>\n"
     ]
    }
   ],
   "source": [
    "print(tf.version)"
   ]
  },
  {
   "cell_type": "code",
   "execution_count": 13,
   "id": "a667500c-472b-47b9-bcea-361800aa1e3e",
   "metadata": {},
   "outputs": [],
   "source": [
    "# iterate through zip file of occ reports to construct a dataframe (may take a while)\n",
    "\n",
    "#occ_df = read_word_doc_zip_as_df('occ-report-docs/occ-reports.zip')"
   ]
  },
  {
   "cell_type": "code",
   "execution_count": 14,
   "id": "04b08f44-8f2c-4ace-9a47-e6713afafd3f",
   "metadata": {},
   "outputs": [],
   "source": [
    "#occ_df = occ_df[[\"Time\", \"Log\", \"BPD\"]]\n",
    "#occ_df['BPD'] = occ_df['BPD'].apply(lambda x: str(x).strip())"
   ]
  },
  {
   "cell_type": "code",
   "execution_count": 15,
   "id": "63a6cf8a-d165-41b3-b37e-8c9a6385f1b4",
   "metadata": {},
   "outputs": [],
   "source": [
    "#csv = occ_df.to_csv('csv/occ-reports.csv', index=False)"
   ]
  },
  {
   "cell_type": "code",
   "execution_count": 16,
   "id": "727d62bd-16a3-45d3-bea0-f80784f52af3",
   "metadata": {},
   "outputs": [],
   "source": [
    "#csv_to_dataset(csv_path, batch_size, label, num_epochs)"
   ]
  },
  {
   "cell_type": "code",
   "execution_count": 17,
   "id": "0e71fbb4-2c12-4b2c-9196-96f3ea003c2a",
   "metadata": {},
   "outputs": [
    {
     "name": "stderr",
     "output_type": "stream",
     "text": [
      "<ipython-input-17-2dd475f7fb39>:9: SettingWithCopyWarning: \n",
      "A value is trying to be set on a copy of a slice from a DataFrame.\n",
      "Try using .loc[row_indexer,col_indexer] = value instead\n",
      "\n",
      "See the caveats in the documentation: https://pandas.pydata.org/pandas-docs/stable/user_guide/indexing.html#returning-a-view-versus-a-copy\n",
      "  labeled_df['Cat'] = labeled_df['Cat'].apply(lambda x: int(x))\n"
     ]
    },
    {
     "data": {
      "text/html": [
       "<div>\n",
       "<style scoped>\n",
       "    .dataframe tbody tr th:only-of-type {\n",
       "        vertical-align: middle;\n",
       "    }\n",
       "\n",
       "    .dataframe tbody tr th {\n",
       "        vertical-align: top;\n",
       "    }\n",
       "\n",
       "    .dataframe thead th {\n",
       "        text-align: right;\n",
       "    }\n",
       "</style>\n",
       "<table border=\"1\" class=\"dataframe\">\n",
       "  <thead>\n",
       "    <tr style=\"text-align: right;\">\n",
       "      <th></th>\n",
       "      <th>Log</th>\n",
       "      <th>Cat</th>\n",
       "    </tr>\n",
       "  </thead>\n",
       "  <tbody>\n",
       "    <tr>\n",
       "      <th>0</th>\n",
       "      <td>T385 released, 5 minutes late.</td>\n",
       "      <td>10</td>\n",
       "    </tr>\n",
       "    <tr>\n",
       "      <th>1</th>\n",
       "      <td>CAR COUNT\\nA’s:  51   B’s:   329   C’s:   172 ...</td>\n",
       "      <td>10</td>\n",
       "    </tr>\n",
       "    <tr>\n",
       "      <th>2</th>\n",
       "      <td>Daily SCRAM / Spare Train Report: OCY: T337 Ho...</td>\n",
       "      <td>10</td>\n",
       "    </tr>\n",
       "    <tr>\n",
       "      <th>3</th>\n",
       "      <td>T229 late dispatching OHY due to FW scheduling...</td>\n",
       "      <td>7</td>\n",
       "    </tr>\n",
       "    <tr>\n",
       "      <th>4</th>\n",
       "      <td>T229 verifies A78 [A1 &amp; A2 tracks] cranked, cl...</td>\n",
       "      <td>6</td>\n",
       "    </tr>\n",
       "  </tbody>\n",
       "</table>\n",
       "</div>"
      ],
      "text/plain": [
       "                                                 Log  Cat\n",
       "0                     T385 released, 5 minutes late.   10\n",
       "1  CAR COUNT\\nA’s:  51   B’s:   329   C’s:   172 ...   10\n",
       "2  Daily SCRAM / Spare Train Report: OCY: T337 Ho...   10\n",
       "3  T229 late dispatching OHY due to FW scheduling...    7\n",
       "4  T229 verifies A78 [A1 & A2 tracks] cranked, cl...    6"
      ]
     },
     "execution_count": 17,
     "metadata": {},
     "output_type": "execute_result"
    }
   ],
   "source": [
    "occ_df = pd.read_csv('csv/nadav-labeled-2.csv')\n",
    "occ_df = occ_df[[\"Log\", \"Cat\"]]\n",
    "\n",
    "# first 100 rows are labeled\n",
    "labeled_df = occ_df.iloc[:500,:]\n",
    "unlabeled_df = occ_df.iloc[501:,:]\n",
    "\n",
    "#labeled_df = labeled_df[labeled_df.Cat.apply(lambda x: x.isnumeric())]\n",
    "labeled_df['Cat'] = labeled_df['Cat'].apply(lambda x: int(x))\n",
    "labeled_df.head(5)"
   ]
  },
  {
   "cell_type": "code",
   "execution_count": 18,
   "id": "8218f238-a4ce-4842-8ab8-d1760f230373",
   "metadata": {},
   "outputs": [],
   "source": [
    "# Save dataframes as csv files\n",
    "\n",
    "labeled_df.to_csv('csv/labeled.csv', index=False)\n",
    "unlabeled_df.to_csv('csv/unlabeled.csv', index=False)"
   ]
  },
  {
   "cell_type": "code",
   "execution_count": 19,
   "id": "73326ee4-19b2-42e4-9135-59a9fc4208aa",
   "metadata": {},
   "outputs": [],
   "source": [
    "# Convert csv to tf dataset\n",
    "\n",
    "labeled_ds = csv_to_dataset('csv/labeled.csv', batch_size=1, label='Cat', num_epochs=1)\n",
    "unlabeled_ds = csv_to_dataset('csv/unlabeled.csv', batch_size=1, label='Cat', num_epochs=1)"
   ]
  },
  {
   "cell_type": "code",
   "execution_count": 20,
   "id": "917441b5-cbf9-419b-9498-c20ef402cc42",
   "metadata": {},
   "outputs": [],
   "source": [
    "# Split labeled dataset into train and validation sets (planning on implementing k-fold cross validation)\n",
    "labeled_ds = labeled_ds.shuffle(500)\n",
    "train_ds = labeled_ds.take(400)\n",
    "val_ds = labeled_ds.skip(400)"
   ]
  },
  {
   "cell_type": "code",
   "execution_count": 21,
   "id": "3369f92d-cedf-447f-9789-c9d8d5fc5094",
   "metadata": {},
   "outputs": [],
   "source": [
    "# Not really sure what this does but apparently it make the code run faster \n",
    "AUTOTUNE = tf.data.AUTOTUNE\n",
    "\n",
    "train_ds = train_ds.cache().prefetch(buffer_size=AUTOTUNE)\n",
    "val_ds = val_ds.cache().prefetch(buffer_size=AUTOTUNE)"
   ]
  },
  {
   "cell_type": "code",
   "execution_count": 22,
   "id": "fc2c3e41-ad08-480f-a74a-0e7e96782179",
   "metadata": {},
   "outputs": [],
   "source": [
    "# Create a custom standardization function to strip HTML break tags '<br />'.\n",
    "def custom_standardization(input_data):\n",
    "    return input_data\n",
    "    lowercase = tf.strings.lower(input_data)\n",
    "    stripped_html = tf.strings.regex_replace(lowercase, '<br />', ' ')\n",
    "    return tf.strings.regex_replace(stripped_html,\n",
    "                                  '[%s]' % re.escape(string.punctuation), '')"
   ]
  },
  {
   "cell_type": "code",
   "execution_count": 23,
   "id": "9ac34c90-2d9d-4a46-9b90-2cbfddd76173",
   "metadata": {},
   "outputs": [],
   "source": [
    "# Vocabulary size and number of words in a sequence.\n",
    "vocab_size = 10000\n",
    "sequence_length = 20\n",
    "\n",
    "# Use the text vectorization layer to normalize, split, and map strings to\n",
    "# integers. Note that the layer uses the custom standardization defined above.\n",
    "# Set maximum_sequence length as all samples are not of the same length.\n",
    "vectorize_layer = TextVectorization(\n",
    "    standardize=\"lower_and_strip_punctuation\",\n",
    "    max_tokens=vocab_size,\n",
    "    output_mode='int',\n",
    "    output_sequence_length=sequence_length)\n",
    "\n",
    "# Make a text-only dataset (no labels) and call adapt to build the vocabulary.\n",
    "text_ds = train_ds.map(lambda x, y: x['Log'])\n",
    "vectorize_layer.adapt(text_ds)"
   ]
  },
  {
   "cell_type": "code",
   "execution_count": 24,
   "id": "c05e60ed-ce6b-4e4e-94a5-7409d28fd886",
   "metadata": {},
   "outputs": [],
   "source": [
    "# hyperparameters\n",
    "embedding_dim=5\n",
    "hidden_layers=20\n",
    "\n",
    "model = Sequential([\n",
    "  vectorize_layer,                                         # Map strings to integer indices within the vocabulary\n",
    "  Embedding(vocab_size, embedding_dim, name=\"embedding\"),  # Maps integer indices (which stand for specific words) to dense vectors (their embeddings)\n",
    "  GlobalAveragePooling1D(),                                # Average of the embedding values over sequence length\n",
    "  Dense(hidden_layers, activation='relu'),\n",
    "  Dense(hidden_layers, activation='relu'),\n",
    "  Dense(14, activation=\"softmax\")                          # Output layer\n",
    "])"
   ]
  },
  {
   "cell_type": "code",
   "execution_count": 25,
   "id": "11d43b67-c9c5-49a1-8cb9-9387acf454b1",
   "metadata": {},
   "outputs": [],
   "source": [
    "tensorboard_callback = tf.keras.callbacks.TensorBoard(log_dir=\"logs\")"
   ]
  },
  {
   "cell_type": "code",
   "execution_count": 26,
   "id": "5a72a443-3adb-437e-8413-89c1d3d52c89",
   "metadata": {},
   "outputs": [],
   "source": [
    "model.compile(optimizer='adam',\n",
    "              loss=tf.keras.losses.SparseCategoricalCrossentropy(),\n",
    "              metrics=['accuracy'])"
   ]
  },
  {
   "cell_type": "code",
   "execution_count": 27,
   "id": "edece6a9-d986-48e0-8caf-9675c561316a",
   "metadata": {},
   "outputs": [],
   "source": [
    "cp_callback = tf.keras.callbacks.ModelCheckpoint(filepath=\"checkpints\",\n",
    "                                                 save_weights_only=True,\n",
    "                                                 verbose=1)"
   ]
  },
  {
   "cell_type": "code",
   "execution_count": 28,
   "id": "18c43937-59f7-451d-b2b9-b1c260b5e573",
   "metadata": {},
   "outputs": [
    {
     "name": "stdout",
     "output_type": "stream",
     "text": [
      "Epoch 1/30\n",
      "400/400 [==============================] - 2s 2ms/step - loss: 2.0901 - accuracy: 0.4200 - val_loss: 1.9863 - val_accuracy: 0.3000\n",
      "Epoch 2/30\n",
      "400/400 [==============================] - 1s 2ms/step - loss: 1.6133 - accuracy: 0.4225 - val_loss: 1.7761 - val_accuracy: 0.3200\n",
      "Epoch 3/30\n",
      "400/400 [==============================] - 1s 2ms/step - loss: 1.3949 - accuracy: 0.4800 - val_loss: 1.5911 - val_accuracy: 0.4200\n",
      "Epoch 4/30\n",
      "400/400 [==============================] - 1s 2ms/step - loss: 1.2354 - accuracy: 0.5525 - val_loss: 1.4436 - val_accuracy: 0.5100\n",
      "Epoch 5/30\n",
      "400/400 [==============================] - 1s 2ms/step - loss: 1.0955 - accuracy: 0.6225 - val_loss: 1.2962 - val_accuracy: 0.5300\n",
      "Epoch 6/30\n",
      "400/400 [==============================] - 1s 2ms/step - loss: 0.9686 - accuracy: 0.6475 - val_loss: 1.1889 - val_accuracy: 0.5400\n",
      "Epoch 7/30\n",
      "400/400 [==============================] - 1s 2ms/step - loss: 0.8794 - accuracy: 0.6575 - val_loss: 1.1156 - val_accuracy: 0.5400\n",
      "Epoch 8/30\n",
      "400/400 [==============================] - 1s 2ms/step - loss: 0.8083 - accuracy: 0.6950 - val_loss: 1.0502 - val_accuracy: 0.6300\n",
      "Epoch 9/30\n",
      "400/400 [==============================] - 1s 2ms/step - loss: 0.7321 - accuracy: 0.7525 - val_loss: 0.9730 - val_accuracy: 0.7100\n",
      "Epoch 10/30\n",
      "400/400 [==============================] - 1s 2ms/step - loss: 0.6435 - accuracy: 0.7975 - val_loss: 0.8872 - val_accuracy: 0.7100\n",
      "Epoch 11/30\n",
      "400/400 [==============================] - 1s 2ms/step - loss: 0.5545 - accuracy: 0.8350 - val_loss: 0.8058 - val_accuracy: 0.7400\n",
      "Epoch 12/30\n",
      "400/400 [==============================] - 1s 2ms/step - loss: 0.4760 - accuracy: 0.8550 - val_loss: 0.7442 - val_accuracy: 0.7600\n",
      "Epoch 13/30\n",
      "400/400 [==============================] - 1s 2ms/step - loss: 0.4151 - accuracy: 0.8650 - val_loss: 0.6880 - val_accuracy: 0.7600\n",
      "Epoch 14/30\n",
      "400/400 [==============================] - 1s 2ms/step - loss: 0.3651 - accuracy: 0.8775 - val_loss: 0.6438 - val_accuracy: 0.7900\n",
      "Epoch 15/30\n",
      "400/400 [==============================] - 1s 2ms/step - loss: 0.3208 - accuracy: 0.8850 - val_loss: 0.6097 - val_accuracy: 0.8000\n",
      "Epoch 16/30\n",
      "400/400 [==============================] - 1s 2ms/step - loss: 0.2813 - accuracy: 0.9125 - val_loss: 0.5719 - val_accuracy: 0.8400\n",
      "Epoch 17/30\n",
      "400/400 [==============================] - 1s 2ms/step - loss: 0.2454 - accuracy: 0.9250 - val_loss: 0.5546 - val_accuracy: 0.8600\n",
      "Epoch 18/30\n",
      "400/400 [==============================] - 1s 2ms/step - loss: 0.2110 - accuracy: 0.9425 - val_loss: 0.5175 - val_accuracy: 0.8700\n",
      "Epoch 19/30\n",
      "400/400 [==============================] - 1s 2ms/step - loss: 0.1801 - accuracy: 0.9575 - val_loss: 0.5080 - val_accuracy: 0.9000\n",
      "Epoch 20/30\n",
      "400/400 [==============================] - 1s 2ms/step - loss: 0.1532 - accuracy: 0.9625 - val_loss: 0.4872 - val_accuracy: 0.9200\n",
      "Epoch 21/30\n",
      "400/400 [==============================] - 1s 2ms/step - loss: 0.1286 - accuracy: 0.9675 - val_loss: 0.4877 - val_accuracy: 0.9200\n",
      "Epoch 22/30\n",
      "400/400 [==============================] - 1s 2ms/step - loss: 0.1075 - accuracy: 0.9725 - val_loss: 0.4824 - val_accuracy: 0.9200\n",
      "Epoch 23/30\n",
      "400/400 [==============================] - 1s 2ms/step - loss: 0.0912 - accuracy: 0.9725 - val_loss: 0.4741 - val_accuracy: 0.9400\n",
      "Epoch 24/30\n",
      "400/400 [==============================] - 1s 2ms/step - loss: 0.0755 - accuracy: 0.9800 - val_loss: 0.4716 - val_accuracy: 0.9300\n",
      "Epoch 25/30\n",
      "400/400 [==============================] - 1s 2ms/step - loss: 0.0614 - accuracy: 0.9850 - val_loss: 0.4849 - val_accuracy: 0.9400\n",
      "Epoch 26/30\n",
      "400/400 [==============================] - 1s 2ms/step - loss: 0.0490 - accuracy: 0.9900 - val_loss: 0.4855 - val_accuracy: 0.9500\n",
      "Epoch 27/30\n",
      "400/400 [==============================] - 1s 2ms/step - loss: 0.0380 - accuracy: 0.9950 - val_loss: 0.4953 - val_accuracy: 0.9500\n",
      "Epoch 28/30\n",
      "400/400 [==============================] - 1s 2ms/step - loss: 0.0286 - accuracy: 1.0000 - val_loss: 0.4995 - val_accuracy: 0.9500\n",
      "Epoch 29/30\n",
      "400/400 [==============================] - 1s 2ms/step - loss: 0.0218 - accuracy: 0.9975 - val_loss: 0.5107 - val_accuracy: 0.9500\n",
      "Epoch 30/30\n",
      "400/400 [==============================] - 1s 2ms/step - loss: 0.0166 - accuracy: 1.0000 - val_loss: 0.5300 - val_accuracy: 0.9500\n"
     ]
    }
   ],
   "source": [
    "history = model.fit(\n",
    "    train_ds,\n",
    "    validation_data=val_ds,\n",
    "    epochs=30,\n",
    "    callbacks=[tensorboard_callback])"
   ]
  },
  {
   "cell_type": "code",
   "execution_count": 29,
   "id": "9fddf911-01d6-4448-9e49-e154d4115752",
   "metadata": {},
   "outputs": [
    {
     "name": "stdout",
     "output_type": "stream",
     "text": [
      "400/400 [==============================] - 0s 1ms/step - loss: 0.0118 - accuracy: 1.0000\n",
      "Loss:  0.011796176433563232\n",
      "Accuracy:  1.0\n"
     ]
    }
   ],
   "source": [
    "loss, accuracy = model.evaluate(train_ds)\n",
    "\n",
    "print(\"Loss: \", loss)\n",
    "print(\"Accuracy: \", accuracy)"
   ]
  },
  {
   "cell_type": "code",
   "execution_count": 30,
   "id": "8f13af8d-df75-45e1-a6a2-fafb363a7a55",
   "metadata": {},
   "outputs": [
    {
     "data": {
      "text/plain": [
       "dict_keys(['loss', 'accuracy', 'val_loss', 'val_accuracy'])"
      ]
     },
     "execution_count": 30,
     "metadata": {},
     "output_type": "execute_result"
    }
   ],
   "source": [
    "history_dict = history.history\n",
    "history_dict.keys()"
   ]
  },
  {
   "cell_type": "code",
   "execution_count": 31,
   "id": "6f35e65b-068b-40e6-8b21-e8322ac45b6b",
   "metadata": {},
   "outputs": [
    {
     "data": {
      "image/png": "[encoded data removed]",
      "text/plain": [
       "<Figure size 432x288 with 1 Axes>"
      ]
     },
     "metadata": {
      "needs_background": "light"
     },
     "output_type": "display_data"
    }
   ],
   "source": [
    "acc = history_dict['accuracy']\n",
    "val_acc = history_dict['val_accuracy']\n",
    "loss = history_dict['loss']\n",
    "val_loss = history_dict['val_loss']\n",
    "\n",
    "epochs = range(1, len(acc) + 1)\n",
    "\n",
    "# \"bo\" is for \"blue dot\"\n",
    "plt.plot(epochs, loss, 'bo', label='Training loss')\n",
    "# b is for \"solid blue line\"\n",
    "plt.plot(epochs, val_loss, 'b', label='Validation loss')\n",
    "plt.title('Training and validation loss')\n",
    "plt.xlabel('Epochs')\n",
    "plt.ylabel('Loss')\n",
    "plt.legend()\n",
    "\n",
    "plt.show()"
   ]
  },
  {
   "cell_type": "code",
   "execution_count": 32,
   "id": "d48d2cf4-0912-4160-96c4-2ccfc0586a9e",
   "metadata": {},
   "outputs": [
    {
     "data": {
      "image/png": "[encoded data removed]",
      "text/plain": [
       "<Figure size 432x288 with 1 Axes>"
      ]
     },
     "metadata": {
      "needs_background": "light"
     },
     "output_type": "display_data"
    }
   ],
   "source": [
    "plt.plot(epochs, acc, 'bo', label='Training acc')\n",
    "plt.plot(epochs, val_acc, 'b', label='Validation acc')\n",
    "plt.title('Training and validation accuracy')\n",
    "plt.xlabel('Epochs')\n",
    "plt.ylabel('Accuracy')\n",
    "plt.legend(loc='lower right')\n",
    "\n",
    "plt.show()"
   ]
  },
  {
   "cell_type": "code",
   "execution_count": 39,
   "id": "96c69535-c81d-4890-a629-13e2be57a3fb",
   "metadata": {},
   "outputs": [
    {
     "name": "stdout",
     "output_type": "stream",
     "text": [
      "(OrderedDict([('Log', <tf.Tensor: shape=(1,), dtype=string, numpy=\n",
      "array([b'T507 no ATO doors at M40-2, 311. Train is now (3) minute late.'],\n",
      "      dtype=object)>)]), <tf.Tensor: shape=(1,), dtype=string, numpy=array([b''], dtype=object)>)\n",
      "[5]\n"
     ]
    }
   ],
   "source": [
    "i = 1\n",
    "for element in unlabeled_ds:\n",
    "    print(element)\n",
    "    print(np.argmax(model.predict(element), axis=1))\n",
    "    i-=1\n",
    "    if i == 0:\n",
    "        break\n",
    "    print()"
   ]
  },
  {
   "cell_type": "code",
   "execution_count": 40,
   "id": "8a1258ff-47dc-4aca-a876-d84f08f8d28d",
   "metadata": {},
   "outputs": [],
   "source": [
    "# Save word embeddings \n",
    "# view embedding @ http://projector.tensorflow.org/\n",
    "# upload vectors.tsv and metadata.tsv\n",
    "\n",
    "weights = model.get_layer('embedding').get_weights()[0]\n",
    "vocab = vectorize_layer.get_vocabulary()\n",
    "\n",
    "save_embeddings(weights, vocab)"
   ]
  },
  {
   "cell_type": "code",
   "execution_count": 41,
   "id": "7b2b5439-7fb1-40bd-b6d6-fa5ce33159cc",
   "metadata": {},
   "outputs": [
    {
     "name": "stdout",
     "output_type": "stream",
     "text": [
      "INFO:tensorflow:Assets written to: model/assets\n"
     ]
    }
   ],
   "source": [
    "model.save('model')"
   ]
  },
  {
   "cell_type": "code",
   "execution_count": 42,
   "id": "91802018-c6cc-4b68-81ae-a0a8d5fbc940",
   "metadata": {},
   "outputs": [],
   "source": [
    "model.save_weights('./checkpoints/my_checkpoint')"
   ]
  },
  {
   "cell_type": "code",
   "execution_count": 43,
   "id": "468a954d-d2c3-43ac-8dfa-2dda1064418b",
   "metadata": {},
   "outputs": [],
   "source": [
    "model = tf.keras.models.load_model('model')"
   ]
  },
  {
   "cell_type": "code",
   "execution_count": 44,
   "id": "6d131f80-79f6-4a56-91ac-ba510c22276d",
   "metadata": {},
   "outputs": [],
   "source": [
    "class_legend = MLB_team = {\n",
    "    0:\"Misc\",\n",
    "    1:'Other BPD',\n",
    "    2:'Homeless',\n",
    "    3:'Medical',\n",
    "    4:'Patron interference',\n",
    "    5:\"Vehicle failure\",\n",
    "    6:\"Wayside equipment\",\n",
    "    7:\"Software related failures\",\n",
    "    8:\"Human Error\",\n",
    "    9:\"Weather\",\n",
    "    10:\"Info (no error)\",\n",
    "    11:\"Delays\",\n",
    "    12:\"Track obstruction\",\n",
    "    13:\"Schedule maintenance\"\n",
    "}"
   ]
  },
  {
   "cell_type": "code",
   "execution_count": 45,
   "id": "cb066d7f-7f19-4d98-9307-303763f51368",
   "metadata": {},
   "outputs": [
    {
     "name": "stdout",
     "output_type": "stream",
     "text": [
      "WARNING:tensorflow:5 out of the last 9 calls to <function Model.make_predict_function.<locals>.predict_function at 0x7fcc93327d30> triggered tf.function retracing. Tracing is expensive and the excessive number of tracings could be due to (1) creating @tf.function repeatedly in a loop, (2) passing tensors with different shapes, (3) passing Python objects instead of tensors. For (1), please define your @tf.function outside of the loop. For (2), @tf.function has experimental_relax_shapes=True option that relaxes argument shapes that can avoid unnecessary retracing. For (3), please refer to https://www.tensorflow.org/guide/function#controlling_retracing and https://www.tensorflow.org/api_docs/python/tf/function for  more details.\n",
      "Delays\n",
      "Other BPD\n",
      "Other BPD\n"
     ]
    }
   ],
   "source": [
    "for log in [\"T221 late arrival to K30-2\", \n",
    "            \"DMZ1 cleared Cat B W/O's for the M55XL. Protections released.\", \n",
    "            \"T445 BPD hold K30-1 for a half naked man on the trail c346.\"\n",
    "           ]:\n",
    "    print(class_legend[np.argmax(model.predict([log]))])\n"
   ]
  },
  {
   "cell_type": "code",
   "execution_count": 48,
   "id": "f8268d79-a6bf-49a9-abbc-7709e6d6b9bc",
   "metadata": {},
   "outputs": [
    {
     "name": "stderr",
     "output_type": "stream",
     "text": [
      "<ipython-input-48-a4d23db6745c>:1: SettingWithCopyWarning: \n",
      "A value is trying to be set on a copy of a slice from a DataFrame.\n",
      "Try using .loc[row_indexer,col_indexer] = value instead\n",
      "\n",
      "See the caveats in the documentation: https://pandas.pydata.org/pandas-docs/stable/user_guide/indexing.html#returning-a-view-versus-a-copy\n",
      "  labeled_df['Log'] = labeled_df['Log'].apply(lambda log: str(log))\n"
     ]
    }
   ],
   "source": [
    "labeled_df['Log'] = labeled_df['Log'].apply(lambda log: str(log))"
   ]
  },
  {
   "cell_type": "code",
   "execution_count": 49,
   "id": "b3ef57cb-414c-4863-9307-877740cef8b0",
   "metadata": {},
   "outputs": [
    {
     "name": "stderr",
     "output_type": "stream",
     "text": [
      "<ipython-input-49-d8dd946d9a9e>:1: SettingWithCopyWarning: \n",
      "A value is trying to be set on a copy of a slice from a DataFrame.\n",
      "Try using .loc[row_indexer,col_indexer] = value instead\n",
      "\n",
      "See the caveats in the documentation: https://pandas.pydata.org/pandas-docs/stable/user_guide/indexing.html#returning-a-view-versus-a-copy\n",
      "  labeled_df['Pred'] = labeled_df['Log'].apply(lambda log: np.argmax(model.predict([log]), axis=1)[0])\n"
     ]
    }
   ],
   "source": [
    "labeled_df['Pred'] = labeled_df['Log'].apply(lambda log: np.argmax(model.predict([log]), axis=1)[0])\n"
   ]
  },
  {
   "cell_type": "code",
   "execution_count": 51,
   "id": "be598b04-4aaa-4398-a6ea-dbe548fade68",
   "metadata": {},
   "outputs": [
    {
     "data": {
      "text/html": [
       "<div>\n",
       "<style scoped>\n",
       "    .dataframe tbody tr th:only-of-type {\n",
       "        vertical-align: middle;\n",
       "    }\n",
       "\n",
       "    .dataframe tbody tr th {\n",
       "        vertical-align: top;\n",
       "    }\n",
       "\n",
       "    .dataframe thead th {\n",
       "        text-align: right;\n",
       "    }\n",
       "</style>\n",
       "<table border=\"1\" class=\"dataframe\">\n",
       "  <thead>\n",
       "    <tr style=\"text-align: right;\">\n",
       "      <th></th>\n",
       "      <th>Log</th>\n",
       "      <th>Cat</th>\n",
       "      <th>Pred</th>\n",
       "    </tr>\n",
       "  </thead>\n",
       "  <tbody>\n",
       "    <tr>\n",
       "      <th>400</th>\n",
       "      <td>T441 BOIP approaching R50-2, TO completing Aux...</td>\n",
       "      <td>7</td>\n",
       "      <td>7</td>\n",
       "    </tr>\n",
       "    <tr>\n",
       "      <th>401</th>\n",
       "      <td>T441 approaching R50-2 stopped with a BOIP, tr...</td>\n",
       "      <td>7</td>\n",
       "      <td>7</td>\n",
       "    </tr>\n",
       "    <tr>\n",
       "      <th>402</th>\n",
       "      <td>T227 no ATO doors at S20-2, 311.</td>\n",
       "      <td>5</td>\n",
       "      <td>5</td>\n",
       "    </tr>\n",
       "    <tr>\n",
       "      <th>403</th>\n",
       "      <td>T441 reports they are moving ATO after the AUX...</td>\n",
       "      <td>7</td>\n",
       "      <td>7</td>\n",
       "    </tr>\n",
       "    <tr>\n",
       "      <th>404</th>\n",
       "      <td>T449 M20-2 door open, instructed to do a coupl...</td>\n",
       "      <td>7</td>\n",
       "      <td>7</td>\n",
       "    </tr>\n",
       "    <tr>\n",
       "      <th>405</th>\n",
       "      <td>T441 9.3 R2 track stopped again with the BOIP,...</td>\n",
       "      <td>7</td>\n",
       "      <td>7</td>\n",
       "    </tr>\n",
       "    <tr>\n",
       "      <th>406</th>\n",
       "      <td>T449 moving ATO, door open self cleared, 3 min...</td>\n",
       "      <td>11</td>\n",
       "      <td>11</td>\n",
       "    </tr>\n",
       "    <tr>\n",
       "      <th>407</th>\n",
       "      <td>T517 no ATO doors at M90-1, 311.</td>\n",
       "      <td>5</td>\n",
       "      <td>5</td>\n",
       "    </tr>\n",
       "    <tr>\n",
       "      <th>408</th>\n",
       "      <td>T441 ATO once again, now 6 late.</td>\n",
       "      <td>11</td>\n",
       "      <td>11</td>\n",
       "    </tr>\n",
       "    <tr>\n",
       "      <th>409</th>\n",
       "      <td>T441 7.6 R2 track stopped again with the BOIP,...</td>\n",
       "      <td>7</td>\n",
       "      <td>7</td>\n",
       "    </tr>\n",
       "    <tr>\n",
       "      <th>410</th>\n",
       "      <td>T441 departing R30-2 11 late now after road ma...</td>\n",
       "      <td>7</td>\n",
       "      <td>7</td>\n",
       "    </tr>\n",
       "    <tr>\n",
       "      <th>411</th>\n",
       "      <td>T451 no ATO doors at M20-2, 311.</td>\n",
       "      <td>5</td>\n",
       "      <td>5</td>\n",
       "    </tr>\n",
       "    <tr>\n",
       "      <th>412</th>\n",
       "      <td>T229 no ATO doors at S20-2, 311.</td>\n",
       "      <td>5</td>\n",
       "      <td>5</td>\n",
       "    </tr>\n",
       "    <tr>\n",
       "      <th>413</th>\n",
       "      <td>Tech on board T441 cut and dumped C342 for the...</td>\n",
       "      <td>7</td>\n",
       "      <td>7</td>\n",
       "    </tr>\n",
       "    <tr>\n",
       "      <th>414</th>\n",
       "      <td>T515 no ATO doors at A20-1, 311.</td>\n",
       "      <td>5</td>\n",
       "      <td>5</td>\n",
       "    </tr>\n",
       "    <tr>\n",
       "      <th>415</th>\n",
       "      <td>nan</td>\n",
       "      <td>0</td>\n",
       "      <td>12</td>\n",
       "    </tr>\n",
       "    <tr>\n",
       "      <th>416</th>\n",
       "      <td>nan</td>\n",
       "      <td>0</td>\n",
       "      <td>12</td>\n",
       "    </tr>\n",
       "    <tr>\n",
       "      <th>417</th>\n",
       "      <td>nan</td>\n",
       "      <td>0</td>\n",
       "      <td>12</td>\n",
       "    </tr>\n",
       "    <tr>\n",
       "      <th>418</th>\n",
       "      <td>T325 no ATO doors at M90-2, 311.</td>\n",
       "      <td>5</td>\n",
       "      <td>5</td>\n",
       "    </tr>\n",
       "    <tr>\n",
       "      <th>419</th>\n",
       "      <td>T519 no ATO doors at M70-2, 311.</td>\n",
       "      <td>5</td>\n",
       "      <td>5</td>\n",
       "    </tr>\n",
       "    <tr>\n",
       "      <th>420</th>\n",
       "      <td>T107 A50-2 BPD hold to remove someone from the...</td>\n",
       "      <td>4</td>\n",
       "      <td>4</td>\n",
       "    </tr>\n",
       "    <tr>\n",
       "      <th>421</th>\n",
       "      <td>T449 R50-1 BPD hold for a disturbance on board.</td>\n",
       "      <td>1</td>\n",
       "      <td>1</td>\n",
       "    </tr>\n",
       "    <tr>\n",
       "      <th>422</th>\n",
       "      <td>T361 no ATO doors at Y10-1, 311.</td>\n",
       "      <td>5</td>\n",
       "      <td>5</td>\n",
       "    </tr>\n",
       "    <tr>\n",
       "      <th>423</th>\n",
       "      <td>T107 released ATO, 1 minute delay.</td>\n",
       "      <td>11</td>\n",
       "      <td>11</td>\n",
       "    </tr>\n",
       "    <tr>\n",
       "      <th>424</th>\n",
       "      <td>T449 released ATO, 4 minute hold, now 5 late.</td>\n",
       "      <td>11</td>\n",
       "      <td>11</td>\n",
       "    </tr>\n",
       "    <tr>\n",
       "      <th>425</th>\n",
       "      <td>T231 no ATO doors at S20-1, 311.</td>\n",
       "      <td>5</td>\n",
       "      <td>5</td>\n",
       "    </tr>\n",
       "    <tr>\n",
       "      <th>426</th>\n",
       "      <td>T103 M40-1 BPD hold for a welfare check.</td>\n",
       "      <td>1</td>\n",
       "      <td>1</td>\n",
       "    </tr>\n",
       "    <tr>\n",
       "      <th>427</th>\n",
       "      <td>T519 no ATO doors at M16-2, 311.</td>\n",
       "      <td>5</td>\n",
       "      <td>5</td>\n",
       "    </tr>\n",
       "    <tr>\n",
       "      <th>428</th>\n",
       "      <td>T323 K10-3 BPD hold for a possible medical eme...</td>\n",
       "      <td>3</td>\n",
       "      <td>3</td>\n",
       "    </tr>\n",
       "    <tr>\n",
       "      <th>429</th>\n",
       "      <td>T103 released ATO, 6 minute delay. They remove...</td>\n",
       "      <td>1</td>\n",
       "      <td>1</td>\n",
       "    </tr>\n",
       "    <tr>\n",
       "      <th>430</th>\n",
       "      <td>K10 agent reports the individual is off the tr...</td>\n",
       "      <td>4</td>\n",
       "      <td>1</td>\n",
       "    </tr>\n",
       "    <tr>\n",
       "      <th>431</th>\n",
       "      <td>T241 no ATO doors at K30-2, 311.</td>\n",
       "      <td>5</td>\n",
       "      <td>5</td>\n",
       "    </tr>\n",
       "    <tr>\n",
       "      <th>432</th>\n",
       "      <td>T233 no ATO doors at S20-2, 311.</td>\n",
       "      <td>5</td>\n",
       "      <td>5</td>\n",
       "    </tr>\n",
       "    <tr>\n",
       "      <th>433</th>\n",
       "      <td>T113 no ATO doors at S20-1, 311.</td>\n",
       "      <td>5</td>\n",
       "      <td>5</td>\n",
       "    </tr>\n",
       "    <tr>\n",
       "      <th>434</th>\n",
       "      <td>T323 released ATO, BOD have arrived and placed...</td>\n",
       "      <td>4</td>\n",
       "      <td>11</td>\n",
       "    </tr>\n",
       "    <tr>\n",
       "      <th>435</th>\n",
       "      <td>T385 K10-3 BPD hold for a welfare check.</td>\n",
       "      <td>1</td>\n",
       "      <td>1</td>\n",
       "    </tr>\n",
       "    <tr>\n",
       "      <th>436</th>\n",
       "      <td>T505 no ATO doors at M90-2, 311.</td>\n",
       "      <td>5</td>\n",
       "      <td>5</td>\n",
       "    </tr>\n",
       "    <tr>\n",
       "      <th>437</th>\n",
       "      <td>T115 no ATO doors at S20-1, 311.</td>\n",
       "      <td>5</td>\n",
       "      <td>5</td>\n",
       "    </tr>\n",
       "    <tr>\n",
       "      <th>438</th>\n",
       "      <td>T385 released ATO, 3 minute delay.</td>\n",
       "      <td>11</td>\n",
       "      <td>11</td>\n",
       "    </tr>\n",
       "    <tr>\n",
       "      <th>439</th>\n",
       "      <td>T443 W10-1 TO re-positioned into the station f...</td>\n",
       "      <td>7</td>\n",
       "      <td>7</td>\n",
       "    </tr>\n",
       "    <tr>\n",
       "      <th>440</th>\n",
       "      <td>T459 no ATO doors at M20-2, 311.</td>\n",
       "      <td>5</td>\n",
       "      <td>5</td>\n",
       "    </tr>\n",
       "    <tr>\n",
       "      <th>441</th>\n",
       "      <td>T443 no ATO doors at W40-3, 311.</td>\n",
       "      <td>5</td>\n",
       "      <td>5</td>\n",
       "    </tr>\n",
       "    <tr>\n",
       "      <th>442</th>\n",
       "      <td>T505 no ATO doors at M20-2, 311.</td>\n",
       "      <td>5</td>\n",
       "      <td>5</td>\n",
       "    </tr>\n",
       "    <tr>\n",
       "      <th>443</th>\n",
       "      <td>T117 no ATO doors at S20-1, 311.</td>\n",
       "      <td>5</td>\n",
       "      <td>5</td>\n",
       "    </tr>\n",
       "    <tr>\n",
       "      <th>444</th>\n",
       "      <td>T333 hole M90 to C75 due to car shortage. This...</td>\n",
       "      <td>11</td>\n",
       "      <td>11</td>\n",
       "    </tr>\n",
       "    <tr>\n",
       "      <th>445</th>\n",
       "      <td>T505/905 OOS at A50 to OHY, per Tango-1 there ...</td>\n",
       "      <td>5</td>\n",
       "      <td>0</td>\n",
       "    </tr>\n",
       "    <tr>\n",
       "      <th>446</th>\n",
       "      <td>T325 no ATO doors at C50-2, 311.</td>\n",
       "      <td>5</td>\n",
       "      <td>5</td>\n",
       "    </tr>\n",
       "    <tr>\n",
       "      <th>447</th>\n",
       "      <td>T107 no ATO doors at M90-1, 311.</td>\n",
       "      <td>5</td>\n",
       "      <td>5</td>\n",
       "    </tr>\n",
       "    <tr>\n",
       "      <th>448</th>\n",
       "      <td>T331 M70-2 door open, no suspects, sweeping OO...</td>\n",
       "      <td>0</td>\n",
       "      <td>0</td>\n",
       "    </tr>\n",
       "    <tr>\n",
       "      <th>449</th>\n",
       "      <td>TPA's.</td>\n",
       "      <td>11</td>\n",
       "      <td>12</td>\n",
       "    </tr>\n",
       "  </tbody>\n",
       "</table>\n",
       "</div>"
      ],
      "text/plain": [
       "                                                   Log  Cat  Pred\n",
       "400  T441 BOIP approaching R50-2, TO completing Aux...    7     7\n",
       "401  T441 approaching R50-2 stopped with a BOIP, tr...    7     7\n",
       "402                   T227 no ATO doors at S20-2, 311.    5     5\n",
       "403  T441 reports they are moving ATO after the AUX...    7     7\n",
       "404  T449 M20-2 door open, instructed to do a coupl...    7     7\n",
       "405  T441 9.3 R2 track stopped again with the BOIP,...    7     7\n",
       "406  T449 moving ATO, door open self cleared, 3 min...   11    11\n",
       "407                   T517 no ATO doors at M90-1, 311.    5     5\n",
       "408                   T441 ATO once again, now 6 late.   11    11\n",
       "409  T441 7.6 R2 track stopped again with the BOIP,...    7     7\n",
       "410  T441 departing R30-2 11 late now after road ma...    7     7\n",
       "411                   T451 no ATO doors at M20-2, 311.    5     5\n",
       "412                   T229 no ATO doors at S20-2, 311.    5     5\n",
       "413  Tech on board T441 cut and dumped C342 for the...    7     7\n",
       "414                   T515 no ATO doors at A20-1, 311.    5     5\n",
       "415                                                nan    0    12\n",
       "416                                                nan    0    12\n",
       "417                                                nan    0    12\n",
       "418                   T325 no ATO doors at M90-2, 311.    5     5\n",
       "419                   T519 no ATO doors at M70-2, 311.    5     5\n",
       "420  T107 A50-2 BPD hold to remove someone from the...    4     4\n",
       "421    T449 R50-1 BPD hold for a disturbance on board.    1     1\n",
       "422                   T361 no ATO doors at Y10-1, 311.    5     5\n",
       "423                 T107 released ATO, 1 minute delay.   11    11\n",
       "424      T449 released ATO, 4 minute hold, now 5 late.   11    11\n",
       "425                   T231 no ATO doors at S20-1, 311.    5     5\n",
       "426           T103 M40-1 BPD hold for a welfare check.    1     1\n",
       "427                   T519 no ATO doors at M16-2, 311.    5     5\n",
       "428  T323 K10-3 BPD hold for a possible medical eme...    3     3\n",
       "429  T103 released ATO, 6 minute delay. They remove...    1     1\n",
       "430  K10 agent reports the individual is off the tr...    4     1\n",
       "431                   T241 no ATO doors at K30-2, 311.    5     5\n",
       "432                   T233 no ATO doors at S20-2, 311.    5     5\n",
       "433                   T113 no ATO doors at S20-1, 311.    5     5\n",
       "434  T323 released ATO, BOD have arrived and placed...    4    11\n",
       "435           T385 K10-3 BPD hold for a welfare check.    1     1\n",
       "436                   T505 no ATO doors at M90-2, 311.    5     5\n",
       "437                   T115 no ATO doors at S20-1, 311.    5     5\n",
       "438                 T385 released ATO, 3 minute delay.   11    11\n",
       "439  T443 W10-1 TO re-positioned into the station f...    7     7\n",
       "440                   T459 no ATO doors at M20-2, 311.    5     5\n",
       "441                   T443 no ATO doors at W40-3, 311.    5     5\n",
       "442                   T505 no ATO doors at M20-2, 311.    5     5\n",
       "443                   T117 no ATO doors at S20-1, 311.    5     5\n",
       "444  T333 hole M90 to C75 due to car shortage. This...   11    11\n",
       "445  T505/905 OOS at A50 to OHY, per Tango-1 there ...    5     0\n",
       "446                   T325 no ATO doors at C50-2, 311.    5     5\n",
       "447                   T107 no ATO doors at M90-1, 311.    5     5\n",
       "448  T331 M70-2 door open, no suspects, sweeping OO...    0     0\n",
       "449                                             TPA's.   11    12"
      ]
     },
     "execution_count": 51,
     "metadata": {},
     "output_type": "execute_result"
    }
   ],
   "source": [
    "labeled_df[400:].head(50)"
   ]
  },
  {
   "cell_type": "code",
   "execution_count": null,
   "id": "23a0917c-11ac-4673-abdf-e09263cf6cd5",
   "metadata": {},
   "outputs": [],
   "source": [
    "from sklearn.metrics import confusion_matrix, ConfusionMatrixDisplay"
   ]
  },
  {
   "cell_type": "code",
   "execution_count": null,
   "id": "7e91ec92-ea50-426f-b1dd-ffb4c3068721",
   "metadata": {},
   "outputs": [],
   "source": [
    "cm = confusion_matrix(labeled_df['Cat'], labeled_df['Pred'])"
   ]
  },
  {
   "cell_type": "code",
   "execution_count": null,
   "id": "2cfb0dfb-f05c-41a5-a909-b9749c839a01",
   "metadata": {},
   "outputs": [],
   "source": [
    "disp = ConfusionMatrixDisplay(confusion_matrix=cm)"
   ]
  },
  {
   "cell_type": "code",
   "execution_count": null,
   "id": "21edb0b2-57f7-4efc-80d6-5800db907463",
   "metadata": {},
   "outputs": [],
   "source": [
    "disp.plot()\n",
    "plt.show()"
   ]
  },
  {
   "cell_type": "code",
   "execution_count": null,
   "id": "fbf4e9fd-d086-4e2d-baeb-dea4d51fb63d",
   "metadata": {},
   "outputs": [],
   "source": [
    "import seaborn as sns\n",
    "plt.figure(figsize = (20,12))\n",
    "sns.heatmap(cm/np.sum(cm), annot=True, \n",
    "            fmt='10%', cmap='Blues')\n"
   ]
  },
  {
   "cell_type": "code",
   "execution_count": null,
   "id": "9454c189-9893-487d-9e0b-0221dff9f8db",
   "metadata": {},
   "outputs": [],
   "source": []
  }
 ],
 "metadata": {
  "kernelspec": {
   "display_name": "py38_default",
   "language": "python",
   "name": "conda-env-py38_default-py"
  },
  "language_info": {
   "codemirror_mode": {
    "name": "ipython",
    "version": 3
   },
   "file_extension": ".py",
   "mimetype": "text/x-python",
   "name": "python",
   "nbconvert_exporter": "python",
   "pygments_lexer": "ipython3",
   "version": "3.8.11"
  }
 },
 "nbformat": 4,
 "nbformat_minor": 5
}
