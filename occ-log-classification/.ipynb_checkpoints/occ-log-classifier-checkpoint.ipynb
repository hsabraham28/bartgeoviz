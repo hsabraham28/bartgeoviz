{
 "cells": [
  {
   "cell_type": "code",
   "execution_count": 21,
   "id": "0b49a2ae-a31b-423c-94dd-1c85eb11b60d",
   "metadata": {},
   "outputs": [],
   "source": [
    "import io\n",
    "import re\n",
    "import matplotlib.pyplot as plt\n",
    "import string\n",
    "import numpy as np\n",
    "import pandas as pd\n",
    "from utils import *\n",
    "\n",
    "import tensorflow as tf\n",
    "from tensorflow.keras import Sequential\n",
    "from tensorflow.keras import layers\n",
    "from tensorflow.keras.layers import Dense, Embedding, GlobalAveragePooling1D\n",
    "from tensorflow.keras.layers.experimental.preprocessing import TextVectorization\n",
    "from tensorflow.keras.layers.experimental import preprocessing"
   ]
  },
  {
   "cell_type": "code",
   "execution_count": 29,
   "id": "a667500c-472b-47b9-bcea-361800aa1e3e",
   "metadata": {},
   "outputs": [],
   "source": [
    "#iterate through zip file of occ logs to construct a dataframe (may take a while)\n",
    "\n",
    "#occ_df = word_doc_zip_to_df('occ-report-docs/occ-reports.zip')"
   ]
  },
  {
   "cell_type": "code",
   "execution_count": 30,
   "id": "04b08f44-8f2c-4ace-9a47-e6713afafd3f",
   "metadata": {},
   "outputs": [],
   "source": [
    "#occ_df = occ_df[[\"Time\", \"Log\", \"BPD\"]]\n",
    "#occ_df['BPD'] = occ_df['BPD'].apply(lambda x: str(x).strip())"
   ]
  },
  {
   "cell_type": "code",
   "execution_count": 31,
   "id": "63a6cf8a-d165-41b3-b37e-8c9a6385f1b4",
   "metadata": {},
   "outputs": [],
   "source": [
    "#csv = occ_df.to_csv('csv/occ-reports.csv', index=False)"
   ]
  },
  {
   "cell_type": "code",
   "execution_count": 32,
   "id": "727d62bd-16a3-45d3-bea0-f80784f52af3",
   "metadata": {},
   "outputs": [],
   "source": [
    "#csv_to_dataset(csv_path, batch_size, label, num_epochs)"
   ]
  },
  {
   "cell_type": "code",
   "execution_count": 2,
   "id": "0e71fbb4-2c12-4b2c-9196-96f3ea003c2a",
   "metadata": {},
   "outputs": [
    {
     "data": {
      "text/html": [
       "<div>\n",
       "<style scoped>\n",
       "    .dataframe tbody tr th:only-of-type {\n",
       "        vertical-align: middle;\n",
       "    }\n",
       "\n",
       "    .dataframe tbody tr th {\n",
       "        vertical-align: top;\n",
       "    }\n",
       "\n",
       "    .dataframe thead th {\n",
       "        text-align: right;\n",
       "    }\n",
       "</style>\n",
       "<table border=\"1\" class=\"dataframe\">\n",
       "  <thead>\n",
       "    <tr style=\"text-align: right;\">\n",
       "      <th></th>\n",
       "      <th>Log</th>\n",
       "      <th>Cat</th>\n",
       "    </tr>\n",
       "  </thead>\n",
       "  <tbody>\n",
       "    <tr>\n",
       "      <th>0</th>\n",
       "      <td>T385 released, 5 minutes late.</td>\n",
       "      <td>0</td>\n",
       "    </tr>\n",
       "    <tr>\n",
       "      <th>1</th>\n",
       "      <td>CAR COUNT\\nA’s:  51   B’s:   329   C’s:   172 ...</td>\n",
       "      <td>0</td>\n",
       "    </tr>\n",
       "    <tr>\n",
       "      <th>2</th>\n",
       "      <td>Daily SCRAM / Spare Train Report: OCY: T337 Ho...</td>\n",
       "      <td>0</td>\n",
       "    </tr>\n",
       "    <tr>\n",
       "      <th>3</th>\n",
       "      <td>T229 late dispatching OHY due to FW scheduling...</td>\n",
       "      <td>9</td>\n",
       "    </tr>\n",
       "    <tr>\n",
       "      <th>4</th>\n",
       "      <td>T229 verifies A78 [A1 &amp; A2 tracks] cranked, cl...</td>\n",
       "      <td>2</td>\n",
       "    </tr>\n",
       "  </tbody>\n",
       "</table>\n",
       "</div>"
      ],
      "text/plain": [
       "                                                 Log  Cat\n",
       "0                     T385 released, 5 minutes late.    0\n",
       "1  CAR COUNT\\nA’s:  51   B’s:   329   C’s:   172 ...    0\n",
       "2  Daily SCRAM / Spare Train Report: OCY: T337 Ho...    0\n",
       "3  T229 late dispatching OHY due to FW scheduling...    9\n",
       "4  T229 verifies A78 [A1 & A2 tracks] cranked, cl...    2"
      ]
     },
     "execution_count": 2,
     "metadata": {},
     "output_type": "execute_result"
    }
   ],
   "source": [
    "occ_df = pd.read_csv('csv/nadav-labeled.csv')\n",
    "occ_df = occ_df[[\"Log\", \"Cat\"]]\n",
    "\n",
    "# first 100 rows are labeled\n",
    "labeled_df = occ_df.iloc[:100,:]\n",
    "unlabeled_df = occ_df.iloc[101:,:]\n",
    "\n",
    "labeled_df = labeled_df[labeled_df.Cat.apply(lambda x: x.isnumeric())]\n",
    "labeled_df['Cat'] = labeled_df['Cat'].apply(lambda x: int(x))\n",
    "labeled_df.head(5)"
   ]
  },
  {
   "cell_type": "code",
   "execution_count": 3,
   "id": "8218f238-a4ce-4842-8ab8-d1760f230373",
   "metadata": {},
   "outputs": [],
   "source": [
    "# Save dataframes as csv files\n",
    "\n",
    "labeled_df.to_csv('csv/labeled.csv', index=False)\n",
    "unlabeled_df.to_csv('csv/unlabeled.csv', index=False)"
   ]
  },
  {
   "cell_type": "code",
   "execution_count": 4,
   "id": "73326ee4-19b2-42e4-9135-59a9fc4208aa",
   "metadata": {},
   "outputs": [],
   "source": [
    "# Convert csv to tf dataset\n",
    "\n",
    "labeled_ds = csv_to_dataset('csv/labeled.csv', batch_size=1, label='Cat', num_epochs=1)\n",
    "unlabeled_ds = csv_to_dataset('csv/unlabeled.csv', batch_size=1, label='Cat', num_epochs=1)"
   ]
  },
  {
   "cell_type": "code",
   "execution_count": 5,
   "id": "917441b5-cbf9-419b-9498-c20ef402cc42",
   "metadata": {},
   "outputs": [],
   "source": [
    "# Split labeled dataset into train and validation sets (planning on implementing k-fold cross validation)\n",
    "\n",
    "train_ds = labeled_ds.take(100)\n",
    "val_ds = labeled_ds.skip(80)"
   ]
  },
  {
   "cell_type": "code",
   "execution_count": 6,
   "id": "3369f92d-cedf-447f-9789-c9d8d5fc5094",
   "metadata": {},
   "outputs": [],
   "source": [
    "# Not really sure what this does but apparently it make the code run faster \n",
    "AUTOTUNE = tf.data.AUTOTUNE\n",
    "\n",
    "train_ds = train_ds.cache().prefetch(buffer_size=AUTOTUNE)\n",
    "val_ds = val_ds.cache().prefetch(buffer_size=AUTOTUNE)"
   ]
  },
  {
   "cell_type": "code",
   "execution_count": null,
   "id": "2adf2a1c-782f-4d74-aabf-f1310d0821bc",
   "metadata": {},
   "outputs": [],
   "source": []
  },
  {
   "cell_type": "code",
   "execution_count": 7,
   "id": "fc2c3e41-ad08-480f-a74a-0e7e96782179",
   "metadata": {},
   "outputs": [],
   "source": [
    "# Create a custom standardization function to strip HTML break tags '<br />'.\n",
    "def custom_standardization(input_data):\n",
    "    return input_data\n",
    "    lowercase = tf.strings.lower(input_data)\n",
    "    stripped_html = tf.strings.regex_replace(lowercase, '<br />', ' ')\n",
    "    return tf.strings.regex_replace(stripped_html,\n",
    "                                  '[%s]' % re.escape(string.punctuation), '')"
   ]
  },
  {
   "cell_type": "code",
   "execution_count": 8,
   "id": "9ac34c90-2d9d-4a46-9b90-2cbfddd76173",
   "metadata": {},
   "outputs": [],
   "source": [
    "# Vocabulary size and number of words in a sequence.\n",
    "vocab_size = 10000\n",
    "sequence_length = 25\n",
    "\n",
    "# Use the text vectorization layer to normalize, split, and map strings to\n",
    "# integers. Note that the layer uses the custom standardization defined above.\n",
    "# Set maximum_sequence length as all samples are not of the same length.\n",
    "vectorize_layer = TextVectorization(\n",
    "    standardize=custom_standardization,\n",
    "    max_tokens=vocab_size,\n",
    "    output_mode='int',\n",
    "    output_sequence_length=sequence_length)\n",
    "\n",
    "# Make a text-only dataset (no labels) and call adapt to build the vocabulary.\n",
    "text_ds = train_ds.map(lambda x, y: x['Log'])\n",
    "vectorize_layer.adapt(text_ds)"
   ]
  },
  {
   "cell_type": "code",
   "execution_count": 9,
   "id": "c05e60ed-ce6b-4e4e-94a5-7409d28fd886",
   "metadata": {},
   "outputs": [],
   "source": [
    "# hyperparameters\n",
    "embedding_dim=5\n",
    "hidden_layers=20\n",
    "\n",
    "model = Sequential([\n",
    "  vectorize_layer,                                         # Map strings to integer indices within the vocabulary\n",
    "  Embedding(vocab_size, embedding_dim, name=\"embedding\"),  # Maps integer indices (which stand for specific words) to dense vectors (their embeddings)\n",
    "  GlobalAveragePooling1D(),                                # Average of the embedding values over sequence length\n",
    "  Dense(hidden_layers, activation='relu'),                            # Hidden layers\n",
    "  Dense(10)                                                # Output layer\n",
    "])"
   ]
  },
  {
   "cell_type": "code",
   "execution_count": 10,
   "id": "11d43b67-c9c5-49a1-8cb9-9387acf454b1",
   "metadata": {},
   "outputs": [],
   "source": [
    "tensorboard_callback = tf.keras.callbacks.TensorBoard(log_dir=\"logs\")"
   ]
  },
  {
   "cell_type": "code",
   "execution_count": 11,
   "id": "5a72a443-3adb-437e-8413-89c1d3d52c89",
   "metadata": {},
   "outputs": [],
   "source": [
    "model.compile(optimizer='adam',\n",
    "              loss=tf.keras.losses.SparseCategoricalCrossentropy(from_logits=True),\n",
    "              metrics=['accuracy'])"
   ]
  },
  {
   "cell_type": "code",
   "execution_count": 12,
   "id": "18c43937-59f7-451d-b2b9-b1c260b5e573",
   "metadata": {},
   "outputs": [
    {
     "name": "stdout",
     "output_type": "stream",
     "text": [
      "Epoch 1/10\n",
      "93/93 [==============================] - 1s 3ms/step - loss: 2.2615 - accuracy: 0.3226 - val_loss: 2.2004 - val_accuracy: 0.3846\n",
      "Epoch 2/10\n",
      "93/93 [==============================] - 0s 2ms/step - loss: 2.1189 - accuracy: 0.3548 - val_loss: 2.0060 - val_accuracy: 0.3846\n",
      "Epoch 3/10\n",
      "93/93 [==============================] - 0s 1ms/step - loss: 1.8706 - accuracy: 0.3548 - val_loss: 1.7155 - val_accuracy: 0.3846\n",
      "Epoch 4/10\n",
      "93/93 [==============================] - 0s 1ms/step - loss: 1.6241 - accuracy: 0.3548 - val_loss: 1.5247 - val_accuracy: 0.3846\n",
      "Epoch 5/10\n",
      "93/93 [==============================] - 0s 1ms/step - loss: 1.5028 - accuracy: 0.3548 - val_loss: 1.4366 - val_accuracy: 0.3846\n",
      "Epoch 6/10\n",
      "93/93 [==============================] - 0s 2ms/step - loss: 1.4362 - accuracy: 0.3548 - val_loss: 1.3746 - val_accuracy: 0.3846\n",
      "Epoch 7/10\n",
      "93/93 [==============================] - 0s 1ms/step - loss: 1.3784 - accuracy: 0.3548 - val_loss: 1.3135 - val_accuracy: 0.5385\n",
      "Epoch 8/10\n",
      "93/93 [==============================] - 0s 1ms/step - loss: 1.3198 - accuracy: 0.4301 - val_loss: 1.2464 - val_accuracy: 0.5385\n",
      "Epoch 9/10\n",
      "93/93 [==============================] - 0s 1ms/step - loss: 1.2583 - accuracy: 0.5376 - val_loss: 1.1773 - val_accuracy: 0.6923\n",
      "Epoch 10/10\n",
      "93/93 [==============================] - 0s 1ms/step - loss: 1.1931 - accuracy: 0.6667 - val_loss: 1.1031 - val_accuracy: 0.6923\n"
     ]
    }
   ],
   "source": [
    "history = model.fit(\n",
    "    train_ds,\n",
    "    validation_data=val_ds,\n",
    "    epochs=10,\n",
    "    callbacks=[tensorboard_callback])"
   ]
  },
  {
   "cell_type": "code",
   "execution_count": 13,
   "id": "9fddf911-01d6-4448-9e49-e154d4115752",
   "metadata": {},
   "outputs": [
    {
     "name": "stdout",
     "output_type": "stream",
     "text": [
      "93/93 [==============================] - 0s 877us/step - loss: 1.1440 - accuracy: 0.7634\n",
      "Loss:  1.1440417766571045\n",
      "Accuracy:  0.7634408473968506\n"
     ]
    }
   ],
   "source": [
    "loss, accuracy = model.evaluate(train_ds)\n",
    "\n",
    "print(\"Loss: \", loss)\n",
    "print(\"Accuracy: \", accuracy)"
   ]
  },
  {
   "cell_type": "code",
   "execution_count": 14,
   "id": "8f13af8d-df75-45e1-a6a2-fafb363a7a55",
   "metadata": {},
   "outputs": [
    {
     "data": {
      "text/plain": [
       "dict_keys(['loss', 'accuracy', 'val_loss', 'val_accuracy'])"
      ]
     },
     "execution_count": 14,
     "metadata": {},
     "output_type": "execute_result"
    }
   ],
   "source": [
    "history_dict = history.history\n",
    "history_dict.keys()"
   ]
  },
  {
   "cell_type": "code",
   "execution_count": 15,
   "id": "6f35e65b-068b-40e6-8b21-e8322ac45b6b",
   "metadata": {},
   "outputs": [
    {
     "data": {
      "image/png": "[encoded data removed]",
      "text/plain": [
       "<Figure size 432x288 with 1 Axes>"
      ]
     },
     "metadata": {
      "needs_background": "light"
     },
     "output_type": "display_data"
    }
   ],
   "source": [
    "acc = history_dict['accuracy']\n",
    "val_acc = history_dict['val_accuracy']\n",
    "loss = history_dict['loss']\n",
    "val_loss = history_dict['val_loss']\n",
    "\n",
    "epochs = range(1, len(acc) + 1)\n",
    "\n",
    "# \"bo\" is for \"blue dot\"\n",
    "plt.plot(epochs, loss, 'bo', label='Training loss')\n",
    "# b is for \"solid blue line\"\n",
    "plt.plot(epochs, val_loss, 'b', label='Validation loss')\n",
    "plt.title('Training and validation loss')\n",
    "plt.xlabel('Epochs')\n",
    "plt.ylabel('Loss')\n",
    "plt.legend()\n",
    "\n",
    "plt.show()"
   ]
  },
  {
   "cell_type": "code",
   "execution_count": 16,
   "id": "d48d2cf4-0912-4160-96c4-2ccfc0586a9e",
   "metadata": {},
   "outputs": [
    {
     "data": {
      "image/png": "[encoded data removed]",
      "text/plain": [
       "<Figure size 432x288 with 1 Axes>"
      ]
     },
     "metadata": {
      "needs_background": "light"
     },
     "output_type": "display_data"
    }
   ],
   "source": [
    "plt.plot(epochs, acc, 'bo', label='Training acc')\n",
    "plt.plot(epochs, val_acc, 'b', label='Validation acc')\n",
    "plt.title('Training and validation accuracy')\n",
    "plt.xlabel('Epochs')\n",
    "plt.ylabel('Accuracy')\n",
    "plt.legend(loc='lower right')\n",
    "\n",
    "plt.show()"
   ]
  },
  {
   "cell_type": "code",
   "execution_count": 17,
   "id": "34ee835e-4b98-4c30-a79a-9e8f9e1d9696",
   "metadata": {},
   "outputs": [],
   "source": [
    "values = model.predict(unlabeled_ds)\n",
    "classes = np.argmax(values, axis=1)"
   ]
  },
  {
   "cell_type": "code",
   "execution_count": 18,
   "id": "96cce5a5-fba2-4edb-968b-55d423e7e62a",
   "metadata": {},
   "outputs": [
    {
     "name": "stderr",
     "output_type": "stream",
     "text": [
      "<ipython-input-18-5e4f1cb0d31c>:1: SettingWithCopyWarning: \n",
      "A value is trying to be set on a copy of a slice from a DataFrame.\n",
      "Try using .loc[row_indexer,col_indexer] = value instead\n",
      "\n",
      "See the caveats in the documentation: https://pandas.pydata.org/pandas-docs/stable/user_guide/indexing.html#returning-a-view-versus-a-copy\n",
      "  unlabeled_df['Cat'] = classes\n"
     ]
    }
   ],
   "source": [
    "unlabeled_df['Cat'] = classes"
   ]
  },
  {
   "cell_type": "code",
   "execution_count": 19,
   "id": "8dacc899-6ea8-4fa6-a869-638778839f14",
   "metadata": {},
   "outputs": [
    {
     "data": {
      "text/html": [
       "<div>\n",
       "<style scoped>\n",
       "    .dataframe tbody tr th:only-of-type {\n",
       "        vertical-align: middle;\n",
       "    }\n",
       "\n",
       "    .dataframe tbody tr th {\n",
       "        vertical-align: top;\n",
       "    }\n",
       "\n",
       "    .dataframe thead th {\n",
       "        text-align: right;\n",
       "    }\n",
       "</style>\n",
       "<table border=\"1\" class=\"dataframe\">\n",
       "  <thead>\n",
       "    <tr style=\"text-align: right;\">\n",
       "      <th></th>\n",
       "      <th>Log</th>\n",
       "      <th>Cat</th>\n",
       "    </tr>\n",
       "  </thead>\n",
       "  <tbody>\n",
       "    <tr>\n",
       "      <th>101</th>\n",
       "      <td>T103 M20-1 5 minutes late, secondary delay fol...</td>\n",
       "      <td>2</td>\n",
       "    </tr>\n",
       "    <tr>\n",
       "      <th>102</th>\n",
       "      <td>T373 released, 1 minute delay.</td>\n",
       "      <td>2</td>\n",
       "    </tr>\n",
       "    <tr>\n",
       "      <th>103</th>\n",
       "      <td>Work orders issued Track 36 for the L13XL, vis...</td>\n",
       "      <td>2</td>\n",
       "    </tr>\n",
       "    <tr>\n",
       "      <th>104</th>\n",
       "      <td>T377 K103 possible medical emergency, T/O inve...</td>\n",
       "      <td>2</td>\n",
       "    </tr>\n",
       "    <tr>\n",
       "      <th>105</th>\n",
       "      <td>65 trains/581 cars. PM Rush rated Excellent. 9...</td>\n",
       "      <td>2</td>\n",
       "    </tr>\n",
       "    <tr>\n",
       "      <th>106</th>\n",
       "      <td>T377 ATO, now 6 minutes late.</td>\n",
       "      <td>2</td>\n",
       "    </tr>\n",
       "    <tr>\n",
       "      <th>107</th>\n",
       "      <td>T371 C80-2 6 minutes late, blocked by OOS T771...</td>\n",
       "      <td>9</td>\n",
       "    </tr>\n",
       "    <tr>\n",
       "      <th>108</th>\n",
       "      <td>T457 M80-2 BPD hold, welfare check, 6 minutes ...</td>\n",
       "      <td>7</td>\n",
       "    </tr>\n",
       "    <tr>\n",
       "      <th>109</th>\n",
       "      <td>T377 C20-1 PSF 1 door out of the platform, con...</td>\n",
       "      <td>7</td>\n",
       "    </tr>\n",
       "    <tr>\n",
       "      <th>110</th>\n",
       "      <td>T225 R60-1 BPD hold, welfare check.</td>\n",
       "      <td>2</td>\n",
       "    </tr>\n",
       "  </tbody>\n",
       "</table>\n",
       "</div>"
      ],
      "text/plain": [
       "                                                   Log  Cat\n",
       "101  T103 M20-1 5 minutes late, secondary delay fol...    2\n",
       "102                     T373 released, 1 minute delay.    2\n",
       "103  Work orders issued Track 36 for the L13XL, vis...    2\n",
       "104  T377 K103 possible medical emergency, T/O inve...    2\n",
       "105  65 trains/581 cars. PM Rush rated Excellent. 9...    2\n",
       "106                      T377 ATO, now 6 minutes late.    2\n",
       "107  T371 C80-2 6 minutes late, blocked by OOS T771...    9\n",
       "108  T457 M80-2 BPD hold, welfare check, 6 minutes ...    7\n",
       "109  T377 C20-1 PSF 1 door out of the platform, con...    7\n",
       "110                T225 R60-1 BPD hold, welfare check.    2"
      ]
     },
     "execution_count": 19,
     "metadata": {},
     "output_type": "execute_result"
    }
   ],
   "source": [
    "unlabeled_df.head(10)"
   ]
  },
  {
   "cell_type": "code",
   "execution_count": 22,
   "id": "8a1258ff-47dc-4aca-a876-d84f08f8d28d",
   "metadata": {},
   "outputs": [
    {
     "ename": "NameError",
     "evalue": "name 'io' is not defined",
     "output_type": "error",
     "traceback": [
      "\u001b[0;31m---------------------------------------------------------------------------\u001b[0m",
      "\u001b[0;31mNameError\u001b[0m                                 Traceback (most recent call last)",
      "\u001b[0;32m<ipython-input-22-8fd06e3319cd>\u001b[0m in \u001b[0;36m<module>\u001b[0;34m\u001b[0m\n\u001b[1;32m      3\u001b[0m \u001b[0mvocab\u001b[0m \u001b[0;34m=\u001b[0m \u001b[0mvectorize_layer\u001b[0m\u001b[0;34m.\u001b[0m\u001b[0mget_vocabulary\u001b[0m\u001b[0;34m(\u001b[0m\u001b[0;34m)\u001b[0m\u001b[0;34m\u001b[0m\u001b[0;34m\u001b[0m\u001b[0m\n\u001b[1;32m      4\u001b[0m \u001b[0;34m\u001b[0m\u001b[0m\n\u001b[0;32m----> 5\u001b[0;31m \u001b[0msave_embeddings\u001b[0m\u001b[0;34m(\u001b[0m\u001b[0mweights\u001b[0m\u001b[0;34m,\u001b[0m \u001b[0mvocab\u001b[0m\u001b[0;34m)\u001b[0m\u001b[0;34m\u001b[0m\u001b[0;34m\u001b[0m\u001b[0m\n\u001b[0m",
      "\u001b[0;32m~/notebooks/OCC-ML/utils.py\u001b[0m in \u001b[0;36msave_embeddings\u001b[0;34m(weights, vocab)\u001b[0m\n\u001b[1;32m     53\u001b[0m \u001b[0;34m\u001b[0m\u001b[0m\n\u001b[1;32m     54\u001b[0m \u001b[0;32mdef\u001b[0m \u001b[0msave_embeddings\u001b[0m\u001b[0;34m(\u001b[0m\u001b[0mweights\u001b[0m\u001b[0;34m,\u001b[0m \u001b[0mvocab\u001b[0m\u001b[0;34m)\u001b[0m\u001b[0;34m:\u001b[0m\u001b[0;34m\u001b[0m\u001b[0;34m\u001b[0m\u001b[0m\n\u001b[0;32m---> 55\u001b[0;31m     \u001b[0mout_v\u001b[0m \u001b[0;34m=\u001b[0m \u001b[0mio\u001b[0m\u001b[0;34m.\u001b[0m\u001b[0mopen\u001b[0m\u001b[0;34m(\u001b[0m\u001b[0;34m'tsv/vectors.tsv'\u001b[0m\u001b[0;34m,\u001b[0m \u001b[0;34m'w'\u001b[0m\u001b[0;34m,\u001b[0m \u001b[0mencoding\u001b[0m\u001b[0;34m=\u001b[0m\u001b[0;34m'utf-8'\u001b[0m\u001b[0;34m)\u001b[0m\u001b[0;34m\u001b[0m\u001b[0;34m\u001b[0m\u001b[0m\n\u001b[0m\u001b[1;32m     56\u001b[0m     \u001b[0mout_m\u001b[0m \u001b[0;34m=\u001b[0m \u001b[0mio\u001b[0m\u001b[0;34m.\u001b[0m\u001b[0mopen\u001b[0m\u001b[0;34m(\u001b[0m\u001b[0;34m'tsv/metadata.tsv'\u001b[0m\u001b[0;34m,\u001b[0m \u001b[0;34m'w'\u001b[0m\u001b[0;34m,\u001b[0m \u001b[0mencoding\u001b[0m\u001b[0;34m=\u001b[0m\u001b[0;34m'utf-8'\u001b[0m\u001b[0;34m)\u001b[0m\u001b[0;34m\u001b[0m\u001b[0;34m\u001b[0m\u001b[0m\n\u001b[1;32m     57\u001b[0m \u001b[0;34m\u001b[0m\u001b[0m\n",
      "\u001b[0;31mNameError\u001b[0m: name 'io' is not defined"
     ]
    }
   ],
   "source": [
    "# Save word embeddings\n",
    "weights = model.get_layer('embedding').get_weights()[0]\n",
    "vocab = vectorize_layer.get_vocabulary()\n",
    "\n",
    "save_embeddings(weights, vocab)"
   ]
  },
  {
   "cell_type": "code",
   "execution_count": null,
   "id": "7e91ec92-ea50-426f-b1dd-ffb4c3068721",
   "metadata": {},
   "outputs": [],
   "source": []
  }
 ],
 "metadata": {
  "kernelspec": {
   "display_name": "py38_default",
   "language": "python",
   "name": "conda-env-py38_default-py"
  },
  "language_info": {
   "codemirror_mode": {
    "name": "ipython",
    "version": 3
   },
   "file_extension": ".py",
   "mimetype": "text/x-python",
   "name": "python",
   "nbconvert_exporter": "python",
   "pygments_lexer": "ipython3",
   "version": "3.8.11"
  }
 },
 "nbformat": 4,
 "nbformat_minor": 5
}
