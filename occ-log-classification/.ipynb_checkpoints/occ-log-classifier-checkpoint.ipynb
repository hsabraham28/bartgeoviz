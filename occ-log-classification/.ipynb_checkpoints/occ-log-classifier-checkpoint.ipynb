{
 "cells": [
  {
   "cell_type": "code",
   "execution_count": 26,
   "id": "0b49a2ae-a31b-423c-94dd-1c85eb11b60d",
   "metadata": {},
   "outputs": [],
   "source": [
    "import io\n",
    "import re\n",
    "import matplotlib.pyplot as plt\n",
    "import string\n",
    "import numpy as np\n",
    "import pandas as pd\n",
    "from utils import *\n",
    "\n",
    "import tensorflow as tf\n",
    "from tensorflow.keras import Sequential\n",
    "from tensorflow.keras import layers\n",
    "from tensorflow.keras.layers import Dense, Embedding, GlobalAveragePooling1D\n",
    "from tensorflow.keras.layers.experimental.preprocessing import TextVectorization\n",
    "from tensorflow.keras.layers.experimental import preprocessing"
   ]
  },
  {
   "cell_type": "code",
   "execution_count": 40,
   "id": "a667500c-472b-47b9-bcea-361800aa1e3e",
   "metadata": {},
   "outputs": [],
   "source": [
    "# iterate through zip file of occ reports to construct a dataframe (may take a while)\n",
    "\n",
    "#occ_df = read_word_doc_zip_as_df('occ-report-docs/occ-reports.zip')"
   ]
  },
  {
   "cell_type": "code",
   "execution_count": 41,
   "id": "04b08f44-8f2c-4ace-9a47-e6713afafd3f",
   "metadata": {},
   "outputs": [],
   "source": [
    "#occ_df = occ_df[[\"Time\", \"Log\", \"BPD\"]]\n",
    "#occ_df['BPD'] = occ_df['BPD'].apply(lambda x: str(x).strip())"
   ]
  },
  {
   "cell_type": "code",
   "execution_count": 42,
   "id": "63a6cf8a-d165-41b3-b37e-8c9a6385f1b4",
   "metadata": {},
   "outputs": [],
   "source": [
    "#csv = occ_df.to_csv('csv/occ-reports.csv', index=False)"
   ]
  },
  {
   "cell_type": "code",
   "execution_count": 43,
   "id": "727d62bd-16a3-45d3-bea0-f80784f52af3",
   "metadata": {},
   "outputs": [],
   "source": [
    "#csv_to_dataset(csv_path, batch_size, label, num_epochs)"
   ]
  },
  {
   "cell_type": "code",
   "execution_count": 44,
   "id": "0e71fbb4-2c12-4b2c-9196-96f3ea003c2a",
   "metadata": {},
   "outputs": [
    {
     "name": "stderr",
     "output_type": "stream",
     "text": [
      "<ipython-input-44-2dd475f7fb39>:9: SettingWithCopyWarning: \n",
      "A value is trying to be set on a copy of a slice from a DataFrame.\n",
      "Try using .loc[row_indexer,col_indexer] = value instead\n",
      "\n",
      "See the caveats in the documentation: https://pandas.pydata.org/pandas-docs/stable/user_guide/indexing.html#returning-a-view-versus-a-copy\n",
      "  labeled_df['Cat'] = labeled_df['Cat'].apply(lambda x: int(x))\n"
     ]
    },
    {
     "data": {
      "text/html": [
       "<div>\n",
       "<style scoped>\n",
       "    .dataframe tbody tr th:only-of-type {\n",
       "        vertical-align: middle;\n",
       "    }\n",
       "\n",
       "    .dataframe tbody tr th {\n",
       "        vertical-align: top;\n",
       "    }\n",
       "\n",
       "    .dataframe thead th {\n",
       "        text-align: right;\n",
       "    }\n",
       "</style>\n",
       "<table border=\"1\" class=\"dataframe\">\n",
       "  <thead>\n",
       "    <tr style=\"text-align: right;\">\n",
       "      <th></th>\n",
       "      <th>Log</th>\n",
       "      <th>Cat</th>\n",
       "    </tr>\n",
       "  </thead>\n",
       "  <tbody>\n",
       "    <tr>\n",
       "      <th>0</th>\n",
       "      <td>T385 released, 5 minutes late.</td>\n",
       "      <td>10</td>\n",
       "    </tr>\n",
       "    <tr>\n",
       "      <th>1</th>\n",
       "      <td>CAR COUNT\\nA’s:  51   B’s:   329   C’s:   172 ...</td>\n",
       "      <td>10</td>\n",
       "    </tr>\n",
       "    <tr>\n",
       "      <th>2</th>\n",
       "      <td>Daily SCRAM / Spare Train Report: OCY: T337 Ho...</td>\n",
       "      <td>10</td>\n",
       "    </tr>\n",
       "    <tr>\n",
       "      <th>3</th>\n",
       "      <td>T229 late dispatching OHY due to FW scheduling...</td>\n",
       "      <td>7</td>\n",
       "    </tr>\n",
       "    <tr>\n",
       "      <th>4</th>\n",
       "      <td>T229 verifies A78 [A1 &amp; A2 tracks] cranked, cl...</td>\n",
       "      <td>6</td>\n",
       "    </tr>\n",
       "  </tbody>\n",
       "</table>\n",
       "</div>"
      ],
      "text/plain": [
       "                                                 Log  Cat\n",
       "0                     T385 released, 5 minutes late.   10\n",
       "1  CAR COUNT\\nA’s:  51   B’s:   329   C’s:   172 ...   10\n",
       "2  Daily SCRAM / Spare Train Report: OCY: T337 Ho...   10\n",
       "3  T229 late dispatching OHY due to FW scheduling...    7\n",
       "4  T229 verifies A78 [A1 & A2 tracks] cranked, cl...    6"
      ]
     },
     "execution_count": 44,
     "metadata": {},
     "output_type": "execute_result"
    }
   ],
   "source": [
    "occ_df = pd.read_csv('csv/nadav-labeled-2.csv')\n",
    "occ_df = occ_df[[\"Log\", \"Cat\"]]\n",
    "\n",
    "# first 100 rows are labeled\n",
    "labeled_df = occ_df.iloc[:500,:]\n",
    "unlabeled_df = occ_df.iloc[501:,:]\n",
    "\n",
    "#labeled_df = labeled_df[labeled_df.Cat.apply(lambda x: x.isnumeric())]\n",
    "labeled_df['Cat'] = labeled_df['Cat'].apply(lambda x: int(x))\n",
    "labeled_df.head(5)"
   ]
  },
  {
   "cell_type": "code",
   "execution_count": 45,
   "id": "8218f238-a4ce-4842-8ab8-d1760f230373",
   "metadata": {},
   "outputs": [],
   "source": [
    "# Save dataframes as csv files\n",
    "\n",
    "labeled_df.to_csv('csv/labeled.csv', index=False)\n",
    "unlabeled_df.to_csv('csv/unlabeled.csv', index=False)"
   ]
  },
  {
   "cell_type": "code",
   "execution_count": 46,
   "id": "73326ee4-19b2-42e4-9135-59a9fc4208aa",
   "metadata": {},
   "outputs": [],
   "source": [
    "# Convert csv to tf dataset\n",
    "\n",
    "labeled_ds = csv_to_dataset('csv/labeled.csv', batch_size=1, label='Cat', num_epochs=1)\n",
    "unlabeled_ds = csv_to_dataset('csv/unlabeled.csv', batch_size=1, label='Cat', num_epochs=1)"
   ]
  },
  {
   "cell_type": "code",
   "execution_count": 47,
   "id": "917441b5-cbf9-419b-9498-c20ef402cc42",
   "metadata": {},
   "outputs": [],
   "source": [
    "# Split labeled dataset into train and validation sets (planning on implementing k-fold cross validation)\n",
    "\n",
    "train_ds = labeled_ds.take(400)\n",
    "val_ds = labeled_ds.skip(400)"
   ]
  },
  {
   "cell_type": "code",
   "execution_count": 48,
   "id": "3369f92d-cedf-447f-9789-c9d8d5fc5094",
   "metadata": {},
   "outputs": [],
   "source": [
    "# Not really sure what this does but apparently it make the code run faster \n",
    "AUTOTUNE = tf.data.AUTOTUNE\n",
    "\n",
    "train_ds = train_ds.cache().prefetch(buffer_size=AUTOTUNE)\n",
    "val_ds = val_ds.cache().prefetch(buffer_size=AUTOTUNE)"
   ]
  },
  {
   "cell_type": "code",
   "execution_count": 49,
   "id": "fc2c3e41-ad08-480f-a74a-0e7e96782179",
   "metadata": {},
   "outputs": [],
   "source": [
    "# Create a custom standardization function to strip HTML break tags '<br />'.\n",
    "def custom_standardization(input_data):\n",
    "    return input_data\n",
    "    lowercase = tf.strings.lower(input_data)\n",
    "    stripped_html = tf.strings.regex_replace(lowercase, '<br />', ' ')\n",
    "    return tf.strings.regex_replace(stripped_html,\n",
    "                                  '[%s]' % re.escape(string.punctuation), '')"
   ]
  },
  {
   "cell_type": "code",
   "execution_count": 84,
   "id": "9ac34c90-2d9d-4a46-9b90-2cbfddd76173",
   "metadata": {},
   "outputs": [],
   "source": [
    "# Vocabulary size and number of words in a sequence.\n",
    "vocab_size = 2000\n",
    "sequence_length = 20\n",
    "\n",
    "# Use the text vectorization layer to normalize, split, and map strings to\n",
    "# integers. Note that the layer uses the custom standardization defined above.\n",
    "# Set maximum_sequence length as all samples are not of the same length.\n",
    "vectorize_layer = TextVectorization(\n",
    "    standardize=\"lower_and_strip_punctuation\",\n",
    "    max_tokens=vocab_size,\n",
    "    output_mode='int',\n",
    "    output_sequence_length=sequence_length)\n",
    "\n",
    "# Make a text-only dataset (no labels) and call adapt to build the vocabulary.\n",
    "text_ds = train_ds.map(lambda x, y: x['Log'])\n",
    "vectorize_layer.adapt(text_ds)"
   ]
  },
  {
   "cell_type": "code",
   "execution_count": 85,
   "id": "c05e60ed-ce6b-4e4e-94a5-7409d28fd886",
   "metadata": {},
   "outputs": [],
   "source": [
    "# hyperparameters\n",
    "embedding_dim=5\n",
    "hidden_layers=20\n",
    "\n",
    "model = Sequential([\n",
    "  vectorize_layer,                                         # Map strings to integer indices within the vocabulary\n",
    "  Embedding(vocab_size, embedding_dim, name=\"embedding\"),  # Maps integer indices (which stand for specific words) to dense vectors (their embeddings)\n",
    "  GlobalAveragePooling1D(),                                # Average of the embedding values over sequence length\n",
    "  Dense(hidden_layers, activation='relu'),\n",
    "  Dense(hidden_layers, activation='relu'),\n",
    "  Dense(14, activation=\"softmax\")                                             # Output layer\n",
    "])"
   ]
  },
  {
   "cell_type": "code",
   "execution_count": 86,
   "id": "11d43b67-c9c5-49a1-8cb9-9387acf454b1",
   "metadata": {},
   "outputs": [],
   "source": [
    "tensorboard_callback = tf.keras.callbacks.TensorBoard(log_dir=\"logs\")"
   ]
  },
  {
   "cell_type": "code",
   "execution_count": 87,
   "id": "5a72a443-3adb-437e-8413-89c1d3d52c89",
   "metadata": {},
   "outputs": [],
   "source": [
    "model.compile(optimizer='adam',\n",
    "              loss=tf.keras.losses.SparseCategoricalCrossentropy(),\n",
    "              metrics=['accuracy'])"
   ]
  },
  {
   "cell_type": "code",
   "execution_count": 88,
   "id": "18c43937-59f7-451d-b2b9-b1c260b5e573",
   "metadata": {},
   "outputs": [
    {
     "name": "stdout",
     "output_type": "stream",
     "text": [
      "Epoch 1/30\n",
      "400/400 [==============================] - 1s 2ms/step - loss: 2.1072 - accuracy: 0.3850 - val_loss: 1.7723 - val_accuracy: 0.4300\n",
      "Epoch 2/30\n",
      "400/400 [==============================] - 0s 1ms/step - loss: 1.6176 - accuracy: 0.4275 - val_loss: 1.5634 - val_accuracy: 0.4200\n",
      "Epoch 3/30\n",
      "400/400 [==============================] - 0s 1ms/step - loss: 1.4281 - accuracy: 0.4575 - val_loss: 1.4015 - val_accuracy: 0.4500\n",
      "Epoch 4/30\n",
      "400/400 [==============================] - 1s 1ms/step - loss: 1.2774 - accuracy: 0.5300 - val_loss: 1.2671 - val_accuracy: 0.4900\n",
      "Epoch 5/30\n",
      "400/400 [==============================] - 1s 1ms/step - loss: 1.1389 - accuracy: 0.5850 - val_loss: 1.1363 - val_accuracy: 0.5600\n",
      "Epoch 6/30\n",
      "400/400 [==============================] - 0s 1ms/step - loss: 0.9978 - accuracy: 0.6425 - val_loss: 1.0210 - val_accuracy: 0.6900\n",
      "Epoch 7/30\n",
      "400/400 [==============================] - 0s 1ms/step - loss: 0.8898 - accuracy: 0.6825 - val_loss: 0.9283 - val_accuracy: 0.7400\n",
      "Epoch 8/30\n",
      "400/400 [==============================] - 1s 1ms/step - loss: 0.7976 - accuracy: 0.7300 - val_loss: 0.8388 - val_accuracy: 0.7600\n",
      "Epoch 9/30\n",
      "400/400 [==============================] - 0s 1ms/step - loss: 0.7063 - accuracy: 0.7500 - val_loss: 0.7686 - val_accuracy: 0.7600\n",
      "Epoch 10/30\n",
      "400/400 [==============================] - 0s 1ms/step - loss: 0.6252 - accuracy: 0.7825 - val_loss: 0.6987 - val_accuracy: 0.7600\n",
      "Epoch 11/30\n",
      "400/400 [==============================] - 0s 1ms/step - loss: 0.5579 - accuracy: 0.8050 - val_loss: 0.6413 - val_accuracy: 0.7600\n",
      "Epoch 12/30\n",
      "400/400 [==============================] - 0s 1ms/step - loss: 0.4962 - accuracy: 0.8175 - val_loss: 0.5865 - val_accuracy: 0.7700\n",
      "Epoch 13/30\n",
      "400/400 [==============================] - 0s 1ms/step - loss: 0.4358 - accuracy: 0.8525 - val_loss: 0.5371 - val_accuracy: 0.8100\n",
      "Epoch 14/30\n",
      "400/400 [==============================] - 0s 1ms/step - loss: 0.3821 - accuracy: 0.8850 - val_loss: 0.5021 - val_accuracy: 0.8100\n",
      "Epoch 15/30\n",
      "400/400 [==============================] - 1s 1ms/step - loss: 0.3352 - accuracy: 0.8975 - val_loss: 0.4656 - val_accuracy: 0.8500\n",
      "Epoch 16/30\n",
      "400/400 [==============================] - 0s 1ms/step - loss: 0.2940 - accuracy: 0.9000 - val_loss: 0.4328 - val_accuracy: 0.8500\n",
      "Epoch 17/30\n",
      "400/400 [==============================] - 0s 1ms/step - loss: 0.2583 - accuracy: 0.9200 - val_loss: 0.4060 - val_accuracy: 0.8800\n",
      "Epoch 18/30\n",
      "400/400 [==============================] - 0s 1ms/step - loss: 0.2200 - accuracy: 0.9325 - val_loss: 0.3821 - val_accuracy: 0.8800\n",
      "Epoch 19/30\n",
      "400/400 [==============================] - 0s 1ms/step - loss: 0.1877 - accuracy: 0.9475 - val_loss: 0.3695 - val_accuracy: 0.9100\n",
      "Epoch 20/30\n",
      "400/400 [==============================] - 0s 1ms/step - loss: 0.1585 - accuracy: 0.9675 - val_loss: 0.3500 - val_accuracy: 0.9300\n",
      "Epoch 21/30\n",
      "400/400 [==============================] - 0s 1ms/step - loss: 0.1306 - accuracy: 0.9800 - val_loss: 0.3530 - val_accuracy: 0.9300\n",
      "Epoch 22/30\n",
      "400/400 [==============================] - 1s 1ms/step - loss: 0.1085 - accuracy: 0.9775 - val_loss: 0.3350 - val_accuracy: 0.9300\n",
      "Epoch 23/30\n",
      "400/400 [==============================] - 1s 1ms/step - loss: 0.0868 - accuracy: 0.9825 - val_loss: 0.3436 - val_accuracy: 0.9600\n",
      "Epoch 24/30\n",
      "400/400 [==============================] - 1s 1ms/step - loss: 0.0691 - accuracy: 0.9875 - val_loss: 0.3281 - val_accuracy: 0.9600\n",
      "Epoch 25/30\n",
      "400/400 [==============================] - 0s 1ms/step - loss: 0.0569 - accuracy: 0.9900 - val_loss: 0.3424 - val_accuracy: 0.9700\n",
      "Epoch 26/30\n",
      "400/400 [==============================] - 0s 1ms/step - loss: 0.0477 - accuracy: 0.9925 - val_loss: 0.3298 - val_accuracy: 0.9600\n",
      "Epoch 27/30\n",
      "400/400 [==============================] - 1s 1ms/step - loss: 0.0384 - accuracy: 0.9950 - val_loss: 0.3423 - val_accuracy: 0.9700\n",
      "Epoch 28/30\n",
      "400/400 [==============================] - 1s 1ms/step - loss: 0.0300 - accuracy: 0.9950 - val_loss: 0.3383 - val_accuracy: 0.9600\n",
      "Epoch 29/30\n",
      "400/400 [==============================] - 0s 1ms/step - loss: 0.0252 - accuracy: 0.9950 - val_loss: 0.3513 - val_accuracy: 0.9700\n",
      "Epoch 30/30\n",
      "400/400 [==============================] - 1s 1ms/step - loss: 0.0211 - accuracy: 0.9950 - val_loss: 0.3457 - val_accuracy: 0.9600\n"
     ]
    }
   ],
   "source": [
    "history = model.fit(\n",
    "    train_ds,\n",
    "    validation_data=val_ds,\n",
    "    epochs=30,\n",
    "    callbacks=[tensorboard_callback])"
   ]
  },
  {
   "cell_type": "code",
   "execution_count": 89,
   "id": "9fddf911-01d6-4448-9e49-e154d4115752",
   "metadata": {},
   "outputs": [
    {
     "name": "stdout",
     "output_type": "stream",
     "text": [
      "400/400 [==============================] - 0s 799us/step - loss: 0.0170 - accuracy: 0.9975\n",
      "Loss:  0.01695491373538971\n",
      "Accuracy:  0.9975000023841858\n"
     ]
    }
   ],
   "source": [
    "loss, accuracy = model.evaluate(train_ds)\n",
    "\n",
    "print(\"Loss: \", loss)\n",
    "print(\"Accuracy: \", accuracy)"
   ]
  },
  {
   "cell_type": "code",
   "execution_count": 56,
   "id": "8f13af8d-df75-45e1-a6a2-fafb363a7a55",
   "metadata": {},
   "outputs": [
    {
     "data": {
      "text/plain": [
       "dict_keys(['loss', 'accuracy', 'val_loss', 'val_accuracy'])"
      ]
     },
     "execution_count": 56,
     "metadata": {},
     "output_type": "execute_result"
    }
   ],
   "source": [
    "history_dict = history.history\n",
    "history_dict.keys()"
   ]
  },
  {
   "cell_type": "code",
   "execution_count": 57,
   "id": "6f35e65b-068b-40e6-8b21-e8322ac45b6b",
   "metadata": {},
   "outputs": [
    {
     "data": {
      "image/png": "[encoded data removed]",
      "text/plain": [
       "<Figure size 432x288 with 1 Axes>"
      ]
     },
     "metadata": {
      "needs_background": "light"
     },
     "output_type": "display_data"
    }
   ],
   "source": [
    "acc = history_dict['accuracy']\n",
    "val_acc = history_dict['val_accuracy']\n",
    "loss = history_dict['loss']\n",
    "val_loss = history_dict['val_loss']\n",
    "\n",
    "epochs = range(1, len(acc) + 1)\n",
    "\n",
    "# \"bo\" is for \"blue dot\"\n",
    "plt.plot(epochs, loss, 'bo', label='Training loss')\n",
    "# b is for \"solid blue line\"\n",
    "plt.plot(epochs, val_loss, 'b', label='Validation loss')\n",
    "plt.title('Training and validation loss')\n",
    "plt.xlabel('Epochs')\n",
    "plt.ylabel('Loss')\n",
    "plt.legend()\n",
    "\n",
    "plt.show()"
   ]
  },
  {
   "cell_type": "code",
   "execution_count": 58,
   "id": "d48d2cf4-0912-4160-96c4-2ccfc0586a9e",
   "metadata": {},
   "outputs": [
    {
     "data": {
      "image/png": "[encoded data removed]",
      "text/plain": [
       "<Figure size 432x288 with 1 Axes>"
      ]
     },
     "metadata": {
      "needs_background": "light"
     },
     "output_type": "display_data"
    }
   ],
   "source": [
    "plt.plot(epochs, acc, 'bo', label='Training acc')\n",
    "plt.plot(epochs, val_acc, 'b', label='Validation acc')\n",
    "plt.title('Training and validation accuracy')\n",
    "plt.xlabel('Epochs')\n",
    "plt.ylabel('Accuracy')\n",
    "plt.legend(loc='lower right')\n",
    "\n",
    "plt.show()"
   ]
  },
  {
   "cell_type": "code",
   "execution_count": 59,
   "id": "96c69535-c81d-4890-a629-13e2be57a3fb",
   "metadata": {},
   "outputs": [
    {
     "name": "stdout",
     "output_type": "stream",
     "text": [
      "(OrderedDict([('Log', <tf.Tensor: shape=(1,), dtype=string, numpy=array([b'T363 BPD hold Y10-1 for a welfare check.'], dtype=object)>)]), <tf.Tensor: shape=(1,), dtype=string, numpy=array([b''], dtype=object)>)\n",
      "[1]\n"
     ]
    }
   ],
   "source": [
    "i = 1\n",
    "for element in unlabeled_ds:\n",
    "    print(element)\n",
    "    print(np.argmax(model.predict(element), axis=1))\n",
    "    i-=1\n",
    "    if i == 0:\n",
    "        break\n",
    "    print()"
   ]
  },
  {
   "cell_type": "code",
   "execution_count": 90,
   "id": "8a1258ff-47dc-4aca-a876-d84f08f8d28d",
   "metadata": {},
   "outputs": [],
   "source": [
    "# Save word embeddings \n",
    "# view embedding @ http://projector.tensorflow.org/\n",
    "# upload vectors.tsv and metadata.tsv\n",
    "\n",
    "weights = model.get_layer('embedding').get_weights()[0]\n",
    "vocab = vectorize_layer.get_vocabulary()\n",
    "\n",
    "save_embeddings(weights, vocab)"
   ]
  },
  {
   "cell_type": "code",
   "execution_count": 91,
   "id": "7b2b5439-7fb1-40bd-b6d6-fa5ce33159cc",
   "metadata": {},
   "outputs": [
    {
     "name": "stdout",
     "output_type": "stream",
     "text": [
      "INFO:tensorflow:Assets written to: path/to/location/assets\n"
     ]
    }
   ],
   "source": [
    "model.save('path/to/location')"
   ]
  },
  {
   "cell_type": "code",
   "execution_count": 92,
   "id": "468a954d-d2c3-43ac-8dfa-2dda1064418b",
   "metadata": {},
   "outputs": [],
   "source": [
    "model = tf.keras.models.load_model('path/to/location')"
   ]
  },
  {
   "cell_type": "code",
   "execution_count": null,
   "id": "cb066d7f-7f19-4d98-9307-303763f51368",
   "metadata": {},
   "outputs": [],
   "source": []
  },
  {
   "cell_type": "code",
   "execution_count": 93,
   "id": "b3ef57cb-414c-4863-9307-877740cef8b0",
   "metadata": {},
   "outputs": [
    {
     "name": "stdout",
     "output_type": "stream",
     "text": [
      "(OrderedDict([('Log', <tf.Tensor: shape=(1,), dtype=string, numpy=\n",
      "array([b'T371 M30-2 BPD hold for a report of drunks on the train.'],\n",
      "      dtype=object)>)]), <tf.Tensor: shape=(1,), dtype=string, numpy=array([b''], dtype=object)>)\n",
      "[6]\n"
     ]
    }
   ],
   "source": [
    "i = 1\n",
    "for element in unlabeled_ds:\n",
    "    print(element)\n",
    "    print(int(np.argmax(model.predict(element), axis=1)))\n",
    "    i-=1\n",
    "    if i == 0:\n",
    "        break\n",
    "    print()"
   ]
  },
  {
   "cell_type": "code",
   "execution_count": null,
   "id": "23a0917c-11ac-4673-abdf-e09263cf6cd5",
   "metadata": {},
   "outputs": [],
   "source": []
  },
  {
   "cell_type": "code",
   "execution_count": 23,
   "id": "7e91ec92-ea50-426f-b1dd-ffb4c3068721",
   "metadata": {},
   "outputs": [],
   "source": [
    "# :)"
   ]
  },
  {
   "cell_type": "code",
   "execution_count": null,
   "id": "2cfb0dfb-f05c-41a5-a909-b9749c839a01",
   "metadata": {},
   "outputs": [],
   "source": []
  }
 ],
 "metadata": {
  "kernelspec": {
   "display_name": "py38_default",
   "language": "python",
   "name": "conda-env-py38_default-py"
  },
  "language_info": {
   "codemirror_mode": {
    "name": "ipython",
    "version": 3
   },
   "file_extension": ".py",
   "mimetype": "text/x-python",
   "name": "python",
   "nbconvert_exporter": "python",
   "pygments_lexer": "ipython3",
   "version": "3.8.11"
  }
 },
 "nbformat": 4,
 "nbformat_minor": 5
}
