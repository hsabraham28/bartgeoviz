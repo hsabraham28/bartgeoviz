{
 "cells": [
  {
   "cell_type": "code",
   "execution_count": 12,
   "id": "0b49a2ae-a31b-423c-94dd-1c85eb11b60d",
   "metadata": {},
   "outputs": [],
   "source": [
    "import numpy as np\n",
    "import pandas as pd\n",
    "import re\n",
    "import matplotlib.pyplot as plt\n",
    "import string\n",
    "from docx import *\n",
    "from zipfile import ZipFile\n",
    "\n",
    "import tensorflow as tf\n",
    "from tensorflow.keras import Sequential\n",
    "from tensorflow.keras import layers\n",
    "from tensorflow.keras.layers import Dense, Embedding, GlobalAveragePooling1D\n",
    "from tensorflow.keras.layers.experimental.preprocessing import TextVectorization\n",
    "from tensorflow.keras.layers.experimental import preprocessing"
   ]
  },
  {
   "cell_type": "code",
   "execution_count": 15,
   "id": "2e0170c0-02b6-474c-a6fb-02224485f46c",
   "metadata": {},
   "outputs": [
    {
     "data": {
      "text/html": [
       "<div>\n",
       "<style scoped>\n",
       "    .dataframe tbody tr th:only-of-type {\n",
       "        vertical-align: middle;\n",
       "    }\n",
       "\n",
       "    .dataframe tbody tr th {\n",
       "        vertical-align: top;\n",
       "    }\n",
       "\n",
       "    .dataframe thead th {\n",
       "        text-align: right;\n",
       "    }\n",
       "</style>\n",
       "<table border=\"1\" class=\"dataframe\">\n",
       "  <thead>\n",
       "    <tr style=\"text-align: right;\">\n",
       "      <th></th>\n",
       "      <th>Time</th>\n",
       "      <th>Ref</th>\n",
       "      <th>Log</th>\n",
       "      <th>BPD</th>\n",
       "    </tr>\n",
       "  </thead>\n",
       "  <tbody>\n",
       "    <tr>\n",
       "      <th>1</th>\n",
       "      <td>0556</td>\n",
       "      <td></td>\n",
       "      <td>Gealoc(s) reset.</td>\n",
       "      <td></td>\n",
       "    </tr>\n",
       "    <tr>\n",
       "      <th>2</th>\n",
       "      <td>0622</td>\n",
       "      <td></td>\n",
       "      <td>DMZ1 issued Cat B W/O's for MW02 to set on and...</td>\n",
       "      <td></td>\n",
       "    </tr>\n",
       "    <tr>\n",
       "      <th>3</th>\n",
       "      <td>0640</td>\n",
       "      <td>0622</td>\n",
       "      <td>DMZ1 cleared Cat B W/O's for the M1 Track and ...</td>\n",
       "      <td></td>\n",
       "    </tr>\n",
       "    <tr>\n",
       "      <th>4</th>\n",
       "      <td>0656</td>\n",
       "      <td></td>\n",
       "      <td>DMZ1 issued Cat B W/O's for the M55XL to crank...</td>\n",
       "      <td></td>\n",
       "    </tr>\n",
       "    <tr>\n",
       "      <th>5</th>\n",
       "      <td>0658</td>\n",
       "      <td></td>\n",
       "      <td>T950 Inspection train in C80 TM1 dispatching t...</td>\n",
       "      <td></td>\n",
       "    </tr>\n",
       "  </tbody>\n",
       "</table>\n",
       "</div>"
      ],
      "text/plain": [
       "0  Time   Ref                                                Log BPD\n",
       "1  0556                                         Gealoc(s) reset.    \n",
       "2  0622        DMZ1 issued Cat B W/O's for MW02 to set on and...    \n",
       "3  0640  0622  DMZ1 cleared Cat B W/O's for the M1 Track and ...    \n",
       "4  0656        DMZ1 issued Cat B W/O's for the M55XL to crank...    \n",
       "5  0658        T950 Inspection train in C80 TM1 dispatching t...    "
      ]
     },
     "execution_count": 15,
     "metadata": {},
     "output_type": "execute_result"
    }
   ],
   "source": [
    "#import word doc and convert to dataframe\n",
    "\n",
    "wordDoc = Document('OCCLogDocx/log_2.docx')\n",
    "\n",
    "occ_dfs = [] \n",
    "for table in wordDoc.tables:\n",
    "    data = [[cell.text for cell in row.cells] for row in table.rows]\n",
    "    occ_dfs.append(pd.DataFrame(data))\n",
    "    \n",
    "occ_df = pd.concat(occ_dfs, ignore_index=True)\n",
    "occ_df.columns =  occ_df.iloc[0]\n",
    "occ_df = occ_df[1:]\n",
    "occ_df.head(5)\n"
   ]
  },
  {
   "cell_type": "code",
   "execution_count": 16,
   "id": "211911ca-43b8-4026-8fc8-418600ff3513",
   "metadata": {},
   "outputs": [
    {
     "data": {
      "text/html": [
       "<div>\n",
       "<style scoped>\n",
       "    .dataframe tbody tr th:only-of-type {\n",
       "        vertical-align: middle;\n",
       "    }\n",
       "\n",
       "    .dataframe tbody tr th {\n",
       "        vertical-align: top;\n",
       "    }\n",
       "\n",
       "    .dataframe thead th {\n",
       "        text-align: right;\n",
       "    }\n",
       "</style>\n",
       "<table border=\"1\" class=\"dataframe\">\n",
       "  <thead>\n",
       "    <tr style=\"text-align: right;\">\n",
       "      <th></th>\n",
       "      <th>Time</th>\n",
       "      <th>Ref</th>\n",
       "      <th>Log</th>\n",
       "      <th>BPD</th>\n",
       "    </tr>\n",
       "  </thead>\n",
       "  <tbody>\n",
       "    <tr>\n",
       "      <th>1</th>\n",
       "      <td>0556</td>\n",
       "      <td></td>\n",
       "      <td>Gealoc(s) reset.</td>\n",
       "      <td>0</td>\n",
       "    </tr>\n",
       "    <tr>\n",
       "      <th>2</th>\n",
       "      <td>0622</td>\n",
       "      <td></td>\n",
       "      <td>DMZ1 issued Cat B W/O's for MW02 to set on and...</td>\n",
       "      <td>0</td>\n",
       "    </tr>\n",
       "    <tr>\n",
       "      <th>3</th>\n",
       "      <td>0640</td>\n",
       "      <td>0622</td>\n",
       "      <td>DMZ1 cleared Cat B W/O's for the M1 Track and ...</td>\n",
       "      <td>0</td>\n",
       "    </tr>\n",
       "    <tr>\n",
       "      <th>4</th>\n",
       "      <td>0656</td>\n",
       "      <td></td>\n",
       "      <td>DMZ1 issued Cat B W/O's for the M55XL to crank...</td>\n",
       "      <td>0</td>\n",
       "    </tr>\n",
       "    <tr>\n",
       "      <th>5</th>\n",
       "      <td>0658</td>\n",
       "      <td></td>\n",
       "      <td>T950 Inspection train in C80 TM1 dispatching t...</td>\n",
       "      <td>0</td>\n",
       "    </tr>\n",
       "  </tbody>\n",
       "</table>\n",
       "</div>"
      ],
      "text/plain": [
       "0  Time   Ref                                                Log  BPD\n",
       "1  0556                                         Gealoc(s) reset.    0\n",
       "2  0622        DMZ1 issued Cat B W/O's for MW02 to set on and...    0\n",
       "3  0640  0622  DMZ1 cleared Cat B W/O's for the M1 Track and ...    0\n",
       "4  0656        DMZ1 issued Cat B W/O's for the M55XL to crank...    0\n",
       "5  0658        T950 Inspection train in C80 TM1 dispatching t...    0"
      ]
     },
     "execution_count": 16,
     "metadata": {},
     "output_type": "execute_result"
    }
   ],
   "source": [
    "#data cleaning \n",
    "occ_df['BPD'] = occ_df['BPD'].apply(lambda x: 0 if x == '' else 1)\n",
    "occ_df.head(5)"
   ]
  },
  {
   "cell_type": "code",
   "execution_count": 17,
   "id": "73326ee4-19b2-42e4-9135-59a9fc4208aa",
   "metadata": {},
   "outputs": [],
   "source": [
    "#Convert dataframe to dataset\n",
    "features = ['Log']\n",
    "csv = occ_df.to_csv('csv/onion.csv', index=False) "
   ]
  },
  {
   "cell_type": "code",
   "execution_count": 18,
   "id": "a784d941-eae2-4416-b7fc-1d1513799a1c",
   "metadata": {},
   "outputs": [],
   "source": [
    "csv_ds = tf.data.experimental.make_csv_dataset(\n",
    "    'csv/onion.csv',\n",
    "    batch_size=1, # Artificially small to make examples easier to show.\n",
    "    label_name='BPD',\n",
    "    num_epochs=1,\n",
    "    ignore_errors=True)\n",
    "\n",
    "train_ds = csv_ds.take(40000)\n",
    "val_ds = csv_ds.skip(40000)"
   ]
  },
  {
   "cell_type": "code",
   "execution_count": 19,
   "id": "3369f92d-cedf-447f-9789-c9d8d5fc5094",
   "metadata": {},
   "outputs": [],
   "source": [
    "AUTOTUNE = tf.data.AUTOTUNE\n",
    "\n",
    "train_ds = train_ds.cache().prefetch(buffer_size=AUTOTUNE)\n",
    "val_ds = val_ds.cache().prefetch(buffer_size=AUTOTUNE)"
   ]
  },
  {
   "cell_type": "code",
   "execution_count": 20,
   "id": "80547c7f-4a37-49b0-9067-4ba30a22ceb1",
   "metadata": {},
   "outputs": [],
   "source": [
    "# Embed a 1,000 word vocabulary into 3 dimensions.\n",
    "embedding_layer = tf.keras.layers.Embedding(100, 3)"
   ]
  },
  {
   "cell_type": "code",
   "execution_count": 21,
   "id": "fc2c3e41-ad08-480f-a74a-0e7e96782179",
   "metadata": {},
   "outputs": [],
   "source": [
    "# Create a custom standardization function to strip HTML break tags '<br />'.\n",
    "def custom_standardization(input_data):\n",
    "    return input_data\n",
    "    lowercase = tf.strings.lower(input_data)\n",
    "    stripped_html = tf.strings.regex_replace(lowercase, '<br />', ' ')\n",
    "    return tf.strings.regex_replace(stripped_html,\n",
    "                                  '[%s]' % re.escape(string.punctuation), '')"
   ]
  },
  {
   "cell_type": "code",
   "execution_count": 29,
   "id": "9ac34c90-2d9d-4a46-9b90-2cbfddd76173",
   "metadata": {},
   "outputs": [
    {
     "data": {
      "text/plain": [
       "<PrefetchDataset shapes: (OrderedDict([(Time, (None,)), (Ref, (None,)), (Log, (None,))]), (None,)), types: (OrderedDict([(Time, tf.int32), (Ref, tf.int32), (Log, tf.string)]), tf.int32)>"
      ]
     },
     "execution_count": 29,
     "metadata": {},
     "output_type": "execute_result"
    }
   ],
   "source": [
    "# Vocabulary size and number of words in a sequence.\n",
    "vocab_size = 1000\n",
    "sequence_length = 100\n",
    "\n",
    "# Use the text vectorization layer to normalize, split, and map strings to\n",
    "# integers. Note that the layer uses the custom standardization defined above.\n",
    "# Set maximum_sequence length as all samples are not of the same length.\n",
    "vectorize_layer = TextVectorization(\n",
    "    standardize=custom_standardization,\n",
    "    max_tokens=vocab_size,\n",
    "    output_mode='int',\n",
    "    output_sequence_length=sequence_length)\n",
    "\n",
    "# Make a text-only dataset (no labels) and call adapt to build the vocabulary.\n",
    "text_ds = train_ds.map(lambda x, y: x['Log'])\n",
    "train_ds"
   ]
  },
  {
   "cell_type": "code",
   "execution_count": 23,
   "id": "60ee476f-902f-482d-ab85-c048924153c1",
   "metadata": {},
   "outputs": [],
   "source": [
    "vectorize_layer.adapt(text_ds)"
   ]
  },
  {
   "cell_type": "code",
   "execution_count": 24,
   "id": "c05e60ed-ce6b-4e4e-94a5-7409d28fd886",
   "metadata": {},
   "outputs": [],
   "source": [
    "embedding_dim=16\n",
    "\n",
    "model = Sequential([\n",
    "  vectorize_layer,\n",
    "  Embedding(vocab_size, embedding_dim, name=\"embedding\"),\n",
    "  GlobalAveragePooling1D(),\n",
    "  Dense(16, activation='relu'),\n",
    "  Dense(1)\n",
    "])"
   ]
  },
  {
   "cell_type": "code",
   "execution_count": 25,
   "id": "11d43b67-c9c5-49a1-8cb9-9387acf454b1",
   "metadata": {},
   "outputs": [],
   "source": [
    "tensorboard_callback = tf.keras.callbacks.TensorBoard(log_dir=\"logs\")"
   ]
  },
  {
   "cell_type": "code",
   "execution_count": 26,
   "id": "5a72a443-3adb-437e-8413-89c1d3d52c89",
   "metadata": {},
   "outputs": [],
   "source": [
    "model.compile(optimizer='adam',\n",
    "              loss=tf.keras.losses.BinaryCrossentropy(from_logits=True),\n",
    "              metrics=['accuracy'])"
   ]
  },
  {
   "cell_type": "code",
   "execution_count": 31,
   "id": "18c43937-59f7-451d-b2b9-b1c260b5e573",
   "metadata": {},
   "outputs": [
    {
     "name": "stdout",
     "output_type": "stream",
     "text": [
      "Epoch 1/3\n",
      "68/68 [==============================] - 0s 3ms/step - loss: 0.3226 - accuracy: 0.8971\n",
      "Epoch 2/3\n",
      "68/68 [==============================] - 0s 3ms/step - loss: 0.3194 - accuracy: 0.8971\n",
      "Epoch 3/3\n",
      "68/68 [==============================] - 0s 2ms/step - loss: 0.3162 - accuracy: 0.8971\n"
     ]
    },
    {
     "data": {
      "text/plain": [
       "<keras.callbacks.History at 0x7feadad33af0>"
      ]
     },
     "execution_count": 31,
     "metadata": {},
     "output_type": "execute_result"
    }
   ],
   "source": [
    "model.fit(\n",
    "    train_ds,\n",
    "    validation_data=val_ds,\n",
    "    epochs=3,\n",
    "    callbacks=[tensorboard_callback])"
   ]
  },
  {
   "cell_type": "code",
   "execution_count": 300,
   "id": "8f13af8d-df75-45e1-a6a2-fafb363a7a55",
   "metadata": {},
   "outputs": [
    {
     "data": {
      "text/plain": [
       "<keras.layers.embeddings.Embedding at 0x7f33bcacba90>"
      ]
     },
     "execution_count": 300,
     "metadata": {},
     "output_type": "execute_result"
    }
   ],
   "source": [
    "model.get_layer(index=1)"
   ]
  },
  {
   "cell_type": "code",
   "execution_count": 302,
   "id": "6f35e65b-068b-40e6-8b21-e8322ac45b6b",
   "metadata": {},
   "outputs": [
    {
     "data": {
      "text/plain": [
       "array([[-0.05776202],\n",
       "       [-0.05985318],\n",
       "       [-0.05925184],\n",
       "       [-0.05927332],\n",
       "       [-0.05966676],\n",
       "       [-0.05779658],\n",
       "       [-0.0578372 ],\n",
       "       [-0.05902543],\n",
       "       [-0.05834907],\n",
       "       [-0.05957817]], dtype=float32)"
      ]
     },
     "execution_count": 302,
     "metadata": {},
     "output_type": "execute_result"
    }
   ],
   "source": [
    "predict_x=model.predict(train_ds) \n",
    "predict_x"
   ]
  },
  {
   "cell_type": "code",
   "execution_count": null,
   "id": "d48d2cf4-0912-4160-96c4-2ccfc0586a9e",
   "metadata": {},
   "outputs": [],
   "source": []
  },
  {
   "cell_type": "code",
   "execution_count": null,
   "id": "34ee835e-4b98-4c30-a79a-9e8f9e1d9696",
   "metadata": {},
   "outputs": [],
   "source": []
  }
 ],
 "metadata": {
  "kernelspec": {
   "display_name": "py38_default",
   "language": "python",
   "name": "conda-env-py38_default-py"
  },
  "language_info": {
   "codemirror_mode": {
    "name": "ipython",
    "version": 3
   },
   "file_extension": ".py",
   "mimetype": "text/x-python",
   "name": "python",
   "nbconvert_exporter": "python",
   "pygments_lexer": "ipython3",
   "version": "3.8.11"
  }
 },
 "nbformat": 4,
 "nbformat_minor": 5
}
